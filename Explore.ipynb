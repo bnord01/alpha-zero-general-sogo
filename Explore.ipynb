{
 "cells": [
  {
   "cell_type": "code",
   "execution_count": 2,
   "metadata": {},
   "outputs": [],
   "source": [
    "from MCTS import MCTS\n",
    "from sogo.SogoGame import SogoGame, display as display_board\n",
    "import numpy as np\n",
    "from sogo.keras.NNet import NNetWrapper as NNet\n",
    "\n",
    "class Config(object):\n",
    "    def __init__(self):    \n",
    "      self.num_sampling_moves = 30\n",
    "      self.max_moves = 512  # for chess and shogi, 722 for Go.\n",
    "      self.numMCTSSims = 200\n",
    "\n",
    "      # Root prior exploration noise.\n",
    "      self.root_dirichlet_alpha = 0.3  # for chess, 0.03 for Go and 0.15 for shogi.\n",
    "      self.root_exploration_fraction = 0.0\n",
    "\n",
    "      # UCB formula\n",
    "      self.pb_c_base = 19652\n",
    "      self.pb_c_init = 1.25\n",
    "\n",
    "      # Load model\n",
    "\n",
    "      self.load_model = True\n",
    "      self.load_folder_file = ('./temp/','best.pth.tar')\n",
    "\n",
    "config = Config()\n",
    "game = SogoGame(4)\n",
    "nn = NNet(game)\n",
    "nn.load_checkpoint(*(config.load_folder_file))\n",
    "mcts = MCTS(game, nn, config)\n",
    "\n",
    "def mcts_player(x, player):\n",
    "    canonical_board = game.getCanonicalForm(x, player)\n",
    "    pi, root = mcts.get_action_prob(canonical_board)\n",
    "    return np.argmax(pi), root\n",
    "\n"
   ]
  },
  {
   "cell_type": "code",
   "execution_count": 3,
   "metadata": {},
   "outputs": [],
   "source": [
    "from NeuralNet import NeuralNet\n",
    "from Game import Game\n",
    "\n",
    "class NN(NeuralNet):\n",
    "  def __init__(self,game:Game):\n",
    "    self.game = game\n",
    "  def predict(self, board):\n",
    "    return np.ones(self.game.getActionSize())/self.game.getActionSize(), 0\n",
    "\n",
    "\n",
    "dummy_nn = NN(game)\n",
    "dummy_mcts = MCTS(game, dummy_nn, config)"
   ]
  },
  {
   "cell_type": "code",
   "execution_count": 4,
   "metadata": {},
   "outputs": [],
   "source": [
    "import time\n",
    "\n",
    "class Timer:\n",
    "    def __init__(self, msg):\n",
    "        self.msg = msg\n",
    "    def __enter__(self):\n",
    "        self.start = time.clock()\n",
    "        return self\n",
    "\n",
    "    def __exit__(self, *args):\n",
    "        self.end = time.clock()\n",
    "        self.interval = self.end - self.start\n",
    "        if self.msg:\n",
    "            print(f\"{self.msg} took {self.interval:0.3f} sec\")"
   ]
  },
  {
   "cell_type": "code",
   "execution_count": 5,
   "metadata": {},
   "outputs": [],
   "source": [
    "def setup_board(plays,do_print=True): \n",
    "    board = game.getInitBoard()\n",
    "    player = 1    \n",
    "    for play in plays:\n",
    "        board, player = game.getNextState(board, player,play)\n",
    "    if do_print:\n",
    "        display_board(board)\n",
    "    return board, player"
   ]
  },
  {
   "cell_type": "code",
   "execution_count": 6,
   "metadata": {},
   "outputs": [],
   "source": [
    "def test_mcts(plays, expected):\n",
    "    board, player = setup_board(plays)    \n",
    "    with Timer() as t:\n",
    "        play, root = mcts_player(board, player)    \n",
    "    new_board, new_player = gane.getNextState(board, player, play)\n",
    "    display_board(new_board)\n",
    "    print(f\"MCTS made {'correct' if play == expected else 'incorrect' } play in  {t.interval:0.3f} sec\")\n",
    "    return root"
   ]
  },
  {
   "cell_type": "code",
   "execution_count": 7,
   "metadata": {},
   "outputs": [],
   "source": [
    "def nn_pred(plays):\n",
    "    b,p = setup_board(plays, True)\n",
    "    b = game.getCanonicalForm(b,p)\n",
    "    with Timer(\"NN prediction\"):\n",
    "        pi, v = nn.predict(b)\n",
    "    print(f\"Probs: {np.array2string(pi, precision=2, separator=',', suppress_small=True, max_line_width=200)} Value: {v[0]:0.2f}\")"
   ]
  },
  {
   "cell_type": "code",
   "execution_count": 8,
   "metadata": {},
   "outputs": [],
   "source": [
    "def mcts_pred(plays, root=None):\n",
    "    b,p = setup_board(plays, False)\n",
    "    with Timer(\"MCTS prediction\"):\n",
    "        pi, root = mcts.get_action_prob(b, p, root)\n",
    "    print(f\"Probs: {np.array2string(np.array(pi), precision=2, separator=',', suppress_small=True, max_line_width=200)}\")\n",
    "    return root"
   ]
  },
  {
   "cell_type": "code",
   "execution_count": 9,
   "metadata": {},
   "outputs": [],
   "source": [
    "def mcts_only_pred(plays, root=None):\n",
    "    b,p = setup_board(plays, False)\n",
    "    with Timer(\"MCTS only prediction\"):\n",
    "        pi, root = dummy_mcts.get_action_prob(b, p, root)\n",
    "    print(f\"Probs: {np.array2string(np.array(pi), precision=2, separator=',', suppress_small=True, max_line_width=200)}\")\n",
    "    return root"
   ]
  },
  {
   "cell_type": "code",
   "execution_count": 69,
   "metadata": {},
   "outputs": [
    {
     "name": "stdout",
     "output_type": "stream",
     "text": [
      "z3+--------+\n",
      "3 |- - - - |\n",
      "2 |- - - - |\n",
      "1 |- - - - |\n",
      "0 |- - - - |\n",
      "z3+--------+\n",
      "   0 1 2 3 \n",
      "z2+--------+\n",
      "3 |- - - - |\n",
      "2 |- - - - |\n",
      "1 |- - - - |\n",
      "0 |O - - - |\n",
      "z2+--------+\n",
      "   0 1 2 3 \n",
      "z1+--------+\n",
      "3 |- - - - |\n",
      "2 |- - - - |\n",
      "1 |- - - - |\n",
      "0 |O X - - |\n",
      "z1+--------+\n",
      "   0 1 2 3 \n",
      "z0+--------+\n",
      "3 |- - - - |\n",
      "2 |- - - - |\n",
      "1 |- - - - |\n",
      "0 |O X - - |\n",
      "z0+--------+\n",
      "   0 1 2 3 \n",
      "--\n",
      "NN prediction took 0.013 sec\n",
      "Probs: [0.12,0.05,0.06,0.08,0.04,0.05,0.05,0.05,0.04,0.04,0.04,0.07,0.09,0.06,0.09,0.07] Value: 0.96\n",
      "MCTS prediction took 15.910 sec\n",
      "Probs: [0.76,0.03,0.01,0.01,0.01,0.02,0.01,0.01,0.02,0.02,0.01,0.01,0.03,0.03,0.01,0.02]\n",
      "MCTS only prediction took 1.844 sec\n",
      "Probs: [0.69,0.02,0.02,0.02,0.02,0.02,0.02,0.02,0.02,0.02,0.02,0.02,0.02,0.02,0.02,0.02]\n"
     ]
    }
   ],
   "source": [
    "config.numMCTSSims = 1000\n",
    "play = [0,1,0,1,0]\n",
    "nn_pred(play)\n",
    "mcts_pred(play)\n",
    "mcts_only_pred(play)\n"
   ]
  },
  {
   "cell_type": "code",
   "execution_count": 26,
   "metadata": {},
   "outputs": [
    {
     "name": "stdout",
     "output_type": "stream",
     "text": [
      "z3+--------+\n",
      "3 |- - - - |\n",
      "2 |- - - - |\n",
      "1 |- - - - |\n",
      "0 |- - - - |\n",
      "z3+--------+\n",
      "   0 1 2 3 \n",
      "z2+--------+\n",
      "3 |- - - - |\n",
      "2 |- - - - |\n",
      "1 |- - - - |\n",
      "0 |- - O - |\n",
      "z2+--------+\n",
      "   0 1 2 3 \n",
      "z1+--------+\n",
      "3 |- - - - |\n",
      "2 |- - - - |\n",
      "1 |- - - - |\n",
      "0 |- X O - |\n",
      "z1+--------+\n",
      "   0 1 2 3 \n",
      "z0+--------+\n",
      "3 |- - - - |\n",
      "2 |- - - - |\n",
      "1 |- - - - |\n",
      "0 |- X O - |\n",
      "z0+--------+\n",
      "   0 1 2 3 \n",
      "--\n",
      "NN prediction took 0.014 sec\n",
      "Probs: [0.05,0.03,0.38,0.03,0.04,0.04,0.05,0.04,0.03,0.05,0.04,0.05,0.05,0.04,0.04,0.03] Value: 0.86\n",
      "MCTS prediction took 1.189 sec\n",
      "Probs: [0.02,0.02,0.44,0.01,0.01,0.02,0.17,0.11,0.05,0.02,0.03,0.02,0.02,0.02,0.02,0.02]\n",
      "MCTS only prediction took 0.126 sec\n",
      "Probs: [0.06,0.06,0.06,0.06,0.06,0.06,0.06,0.06,0.06,0.06,0.06,0.06,0.07,0.07,0.07,0.07]\n"
     ]
    }
   ],
   "source": [
    "config.numMCTSSims = 100\n",
    "play = [2,1,2,1,2]\n",
    "nn_pred(play)\n",
    "mcts_pred(play)\n",
    "mcts_only_pred(play)"
   ]
  },
  {
   "cell_type": "code",
   "execution_count": 24,
   "metadata": {},
   "outputs": [],
   "source": [
    "nn.load_checkpoint(\"temp/\",\"best.pth.tar\")"
   ]
  },
  {
   "cell_type": "code",
   "execution_count": 18,
   "metadata": {},
   "outputs": [
    {
     "name": "stdout",
     "output_type": "stream",
     "text": [
      "z3+--------+\n",
      "3 |- - - - |\n",
      "2 |- - - - |\n",
      "1 |- - - - |\n",
      "0 |- - - - |\n",
      "z3+--------+\n",
      "   0 1 2 3 \n",
      "z2+--------+\n",
      "3 |- - - - |\n",
      "2 |- - - - |\n",
      "1 |- - - - |\n",
      "0 |- - O - |\n",
      "z2+--------+\n",
      "   0 1 2 3 \n",
      "z1+--------+\n",
      "3 |- - - - |\n",
      "2 |- - - - |\n",
      "1 |- - - - |\n",
      "0 |- X O - |\n",
      "z1+--------+\n",
      "   0 1 2 3 \n",
      "z0+--------+\n",
      "3 |- - - - |\n",
      "2 |- - - - |\n",
      "1 |- - - - |\n",
      "0 |- X O - |\n",
      "z0+--------+\n",
      "   0 1 2 3 \n",
      "--\n",
      "NN prediction took 0.013 sec\n",
      "Probs: [0.04,0.05,0.44,0.02,0.04,0.04,0.04,0.02,0.02,0.04,0.05,0.04,0.03,0.05,0.05,0.04] Value: 0.90\n",
      "MCTS prediction took 1.370 sec\n",
      "Probs: [0.01,0.15,0.41,0.01,0.05,0.01,0.01,0.01,0.03,0.04,0.11,0.03,0.01,0.05,0.01,0.06]\n",
      "MCTS only prediction took 0.109 sec\n",
      "Probs: [0.06,0.06,0.06,0.06,0.06,0.06,0.06,0.06,0.06,0.06,0.06,0.06,0.07,0.07,0.07,0.07]\n"
     ]
    }
   ],
   "source": [
    "config.numMCTSSims = 100\n",
    "play = [2,1,2,1,2]\n",
    "nn_pred(play)\n",
    "r1 = mcts_pred(play)\n",
    "r0 = mcts_only_pred(play)"
   ]
  },
  {
   "cell_type": "code",
   "execution_count": 19,
   "metadata": {},
   "outputs": [
    {
     "name": "stdout",
     "output_type": "stream",
     "text": [
      "z3+--------+\n",
      "3 |- - - - |\n",
      "2 |- - - - |\n",
      "1 |- - - - |\n",
      "0 |- - X - |\n",
      "z3+--------+\n",
      "   0 1 2 3 \n",
      "z2+--------+\n",
      "3 |- - - - |\n",
      "2 |- - - - |\n",
      "1 |- - - - |\n",
      "0 |- - O - |\n",
      "z2+--------+\n",
      "   0 1 2 3 \n",
      "z1+--------+\n",
      "3 |- - - - |\n",
      "2 |- - - - |\n",
      "1 |- - - - |\n",
      "0 |- X O - |\n",
      "z1+--------+\n",
      "   0 1 2 3 \n",
      "z0+--------+\n",
      "3 |- - - - |\n",
      "2 |- - - - |\n",
      "1 |- - - - |\n",
      "0 |- X O - |\n",
      "z0+--------+\n",
      "   0 1 2 3 \n",
      "--\n",
      "NN prediction took 0.024 sec\n",
      "Probs: [0.06,0.06,0.  ,0.07,0.06,0.11,0.08,0.06,0.05,0.06,0.06,0.05,0.08,0.04,0.11,0.06] Value: -0.27\n",
      "MCTS prediction took 0.839 sec\n",
      "Probs: [0.2 ,0.02,0.  ,0.02,0.02,0.07,0.09,0.06,0.04,0.02,0.09,0.01,0.02,0.01,0.3 ,0.02]\n",
      "MCTS only prediction took 0.133 sec\n",
      "Probs: [0.06,0.06,0.  ,0.06,0.06,0.06,0.06,0.07,0.07,0.07,0.07,0.07,0.07,0.07,0.07,0.07]\n"
     ]
    },
    {
     "data": {
      "text/plain": [
       "<MCTS.Node at 0x1d1b72a3278>"
      ]
     },
     "execution_count": 19,
     "metadata": {},
     "output_type": "execute_result"
    }
   ],
   "source": [
    "config.numMCTSSims = 100\n",
    "play = [2,1,2,1,2,2]\n",
    "nn_pred(play)\n",
    "mcts_pred(play,r1.children[2])\n",
    "mcts_only_pred(play,r0.children[2])"
   ]
  },
  {
   "cell_type": "code",
   "execution_count": 20,
   "metadata": {},
   "outputs": [
    {
     "name": "stdout",
     "output_type": "stream",
     "text": [
      "z3+--------+\n",
      "3 |- - - - |\n",
      "2 |- - - - |\n",
      "1 |- - - - |\n",
      "0 |- - X - |\n",
      "z3+--------+\n",
      "   0 1 2 3 \n",
      "z2+--------+\n",
      "3 |- - - - |\n",
      "2 |- - - - |\n",
      "1 |- - - - |\n",
      "0 |- - O - |\n",
      "z2+--------+\n",
      "   0 1 2 3 \n",
      "z1+--------+\n",
      "3 |- - - - |\n",
      "2 |- - - - |\n",
      "1 |- - - - |\n",
      "0 |- X O - |\n",
      "z1+--------+\n",
      "   0 1 2 3 \n",
      "z0+--------+\n",
      "3 |- - - - |\n",
      "2 |- - - - |\n",
      "1 |- - - - |\n",
      "0 |- X O - |\n",
      "z0+--------+\n",
      "   0 1 2 3 \n",
      "--\n",
      "NN prediction took 0.013 sec\n",
      "Probs: [0.06,0.06,0.  ,0.07,0.06,0.11,0.08,0.06,0.05,0.06,0.06,0.05,0.08,0.04,0.11,0.06] Value: -0.27\n",
      "MCTS prediction took 1.953 sec\n",
      "Probs: [0.22,0.02,0.  ,0.02,0.02,0.07,0.09,0.06,0.04,0.02,0.09,0.01,0.02,0.01,0.29,0.02]\n",
      "MCTS only prediction took 0.111 sec\n",
      "Probs: [0.06,0.06,0.  ,0.06,0.06,0.06,0.07,0.07,0.07,0.07,0.07,0.07,0.07,0.07,0.07,0.07]\n"
     ]
    },
    {
     "data": {
      "text/plain": [
       "<MCTS.Node at 0x1d1b721e3c8>"
      ]
     },
     "execution_count": 20,
     "metadata": {},
     "output_type": "execute_result"
    }
   ],
   "source": [
    "config.numMCTSSims = 100\n",
    "play = [2,1,2,1,2,2]\n",
    "nn_pred(play)\n",
    "mcts_pred(play)\n",
    "mcts_only_pred(play)"
   ]
  },
  {
   "cell_type": "code",
   "execution_count": 21,
   "metadata": {},
   "outputs": [
    {
     "data": {
      "text/plain": [
       "[1, 15, 100, 1, 5, 1, 1, 1, 3, 4, 11, 3, 1, 5, 1, 6]"
      ]
     },
     "execution_count": 21,
     "metadata": {},
     "output_type": "execute_result"
    }
   ],
   "source": [
    "[x.visit_count for x in r1.children.values()]"
   ]
  },
  {
   "cell_type": "code",
   "execution_count": null,
   "metadata": {},
   "outputs": [],
   "source": []
  }
 ],
 "metadata": {
  "kernelspec": {
   "display_name": "Python 3",
   "language": "python",
   "name": "python3"
  },
  "language_info": {
   "codemirror_mode": {
    "name": "ipython",
    "version": 3
   },
   "file_extension": ".py",
   "mimetype": "text/x-python",
   "name": "python",
   "nbconvert_exporter": "python",
   "pygments_lexer": "ipython3",
   "version": "3.6.6"
  }
 },
 "nbformat": 4,
 "nbformat_minor": 2
}
