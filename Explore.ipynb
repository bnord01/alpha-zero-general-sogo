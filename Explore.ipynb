{
 "cells": [
  {
   "cell_type": "code",
   "execution_count": 9,
   "metadata": {},
   "outputs": [],
   "source": [
    "from MCTS import MCTS\n",
    "\n",
    "from sogo.SogoGame import SogoGame, display as display_board\n",
    "import numpy as np\n",
    "from sogo.keras.NNet import NNetWrapper as NNet\n",
    "from Timer import Timer\n",
    "\n",
    "from Config import Config\n",
    "from sogo.keras.NNet import NNArgs\n",
    "# nnet players\n",
    "config = Config(\n",
    "    load_folder_file=('./save/', 'mcts1024_eps40_iter17.h5'),\n",
    "    num_mcts_sims=150,\n",
    "    root_dirichlet_alpha=0.3,\n",
    "    root_exploration_fraction=0.0,\n",
    "    mcts_discount=0.9,\n",
    "    pb_c_base=19652,\n",
    "    pb_c_init=1.25)\n",
    "config.nnet_args = NNArgs(lr=0.001, \n",
    "                              batch_size=1024, \n",
    "                              epochs=20)\n",
    "\n",
    "game = SogoGame(4)\n",
    "\n",
    "def setup_board(plays,verbose=True): \n",
    "    board = game.init_board()\n",
    "    player = 1    \n",
    "    for play in plays:\n",
    "        board, player = game.next_state(board, player,play)\n",
    "    if verbose:\n",
    "        display_board(board)\n",
    "    return board, player\n",
    "\n",
    "def display_probs(pi, prefix=\"Probs\"):\n",
    "        print(f\"{prefix}: {np.array2string(np.array(pi), precision=2, separator=',', suppress_small=True, max_line_width=200)}\")"
   ]
  },
  {
   "cell_type": "code",
   "execution_count": 10,
   "metadata": {},
   "outputs": [],
   "source": [
    "from NeuralNet import NeuralNet\n",
    "from Game import Game\n",
    "\n",
    "class NN(NeuralNet):\n",
    "  def __init__(self,game:Game):\n",
    "    self.game = game\n",
    "  def predict(self, board):\n",
    "    return np.ones(self.game.action_size())/self.game.action_size(), 0\n",
    "\n",
    "\n",
    "dummy_nn = NN(game)\n",
    "dummy_mcts = MCTS(game, dummy_nn, config)\n",
    "\n",
    "def mcts_only_pred(plays, root=None, verbose=False):\n",
    "    b,p = setup_board(plays, verbose = verbose)\n",
    "    with Timer(\"MCTS only prediction\"):\n",
    "        pi, root = dummy_mcts.get_action_prob(b, p, root)\n",
    "    display_probs(pi)\n",
    "    return root          "
   ]
  },
  {
   "cell_type": "code",
   "execution_count": 11,
   "metadata": {},
   "outputs": [],
   "source": [
    "nn = NNet(game, config)\n",
    "nn.load_checkpoint(*(config.load_folder_file))\n",
    "\n",
    "def nn_pred(plays, verbose=False):\n",
    "    b,p = setup_board(plays, verbose = verbose)\n",
    "    b = game.canonical_board(b,p)\n",
    "    with Timer(\"NN prediction\"):\n",
    "        pi, v = nn.predict(b)\n",
    "    display_probs(pi,\"NNet\")\n",
    "    \n",
    "mcts = MCTS(game, nn, config)\n",
    "\n",
    "def mcts_player(x, player):\n",
    "    canonical_board = game.canonical_board(x, player)\n",
    "    return np.argmax(pi), root\n",
    "\n",
    "def test_mcts(plays, expected, verbose=False):\n",
    "    board, player = setup_board(plays, verbose = verbose)    \n",
    "    with Timer() as t:\n",
    "        pi, root = mcts.get_action_prob(board,player)\n",
    "    play = np.argmax(pi)\n",
    "    new_board, new_player = game.next_state(board, player, play)\n",
    "    if verbose:\n",
    "        display_board(new_board)    \n",
    "    nn_pred(plays)\n",
    "    display_probs(pi, \"MCTS\")\n",
    "    valid = play in expected if isinstance(expected,list) else play == expected\n",
    "    print(f\"MCTS made {'valid' if valid else 'bad' } play: {play} (expected: {expected}) in  {t.interval:0.3f} sec\")\n",
    "    return root\n",
    "          \n",
    "def mcts_pred(plays, root=None, verbose=False):\n",
    "    b,p = setup_board(plays, verbose = verbose)\n",
    "    with Timer(\"MCTS prediction\"):\n",
    "        pi, root = mcts.get_action_prob(b, p, root)\n",
    "    display_probs(pi,\"MCTS\")\n",
    "    return root\n",
    "\n",
    "          "
   ]
  },
  {
   "cell_type": "code",
   "execution_count": 12,
   "metadata": {},
   "outputs": [],
   "source": [
    "def pref_path(r):\n",
    "    if len(r.children) == 0:\n",
    "        return []\n",
    "    _, a, c = max((c.visit_count, a, c) for a,c in r.children.items())\n",
    "    return [a] + pref_path(c)"
   ]
  },
  {
   "cell_type": "markdown",
   "metadata": {},
   "source": [
    "### Play with sure win, doesn't favor fast win."
   ]
  },
  {
   "cell_type": "code",
   "execution_count": 13,
   "metadata": {},
   "outputs": [],
   "source": [
    "pl = [x['i'] + 4*x['j'] for x in [{'i': 3, 'j': 0}, {'i': 0, 'j': 3}, {'i': 2, 'j': 0}, {'i': 2, 'j': 0},   {'i': 2, 'j': 0},   {'i': 1, 'j': 2},   {'i': 2, 'j': 0},   {'i': 0, 'j': 0},   {'i': 3, 'j': 0},   {'i': 3, 'j': 3},   {'i': 3, 'j': 1},   {'i': 3, 'j': 1},   {'i': 3, 'j': 1},   {'i': 3, 'j': 0},   {'i': 3, 'j': 0},   {'i': 2, 'j': 1},   {'i': 3, 'j': 1},   {'i': 3, 'j': 2},   {'i': 3, 'j': 2},   {'i': 3, 'j': 2},   {'i': 3, 'j': 3},   {'i': 2, 'j': 1},   {'i': 3, 'j': 3},   {'i': 3, 'j': 3},   {'i': 3, 'j': 2},   {'i': 0, 'j': 2},   {'i': 1, 'j': 3}]]"
   ]
  },
  {
   "cell_type": "code",
   "execution_count": 14,
   "metadata": {
    "scrolled": false
   },
   "outputs": [
    {
     "name": "stdout",
     "output_type": "stream",
     "text": [
      "z3+--------+\n",
      "3 |- - - O |\n",
      "2 |- - - X |\n",
      "1 |- - - X |\n",
      "0 |- - X X |\n",
      "z3+--------+\n",
      "   0 1 2 3 \n",
      "z2+--------+\n",
      "3 |- - - X |\n",
      "2 |- - - O |\n",
      "1 |- - - X |\n",
      "0 |- - X O |\n",
      "z2+--------+\n",
      "   0 1 2 3 \n",
      "z1+--------+\n",
      "3 |- - - X |\n",
      "2 |- - - X |\n",
      "1 |- - O O |\n",
      "0 |- - O X |\n",
      "z1+--------+\n",
      "   0 1 2 3 \n",
      "z0+--------+\n",
      "3 |O X - O |\n",
      "2 |O O - O |\n",
      "1 |- - O X |\n",
      "0 |O - X X |\n",
      "z0+--------+\n",
      "   0 1 2 3 \n",
      "--\n",
      "NN prediction took 0.534 sec\n",
      "NNet: [0.01,0.03,0.  ,0.  ,0.12,0.02,0.11,0.  ,0.3 ,0.03,0.07,0.07,0.03,0.04,0.18,0.  ]\n",
      "MCTS prediction took 0.819 sec\n",
      "MCTS: [0.  ,0.  ,0.  ,0.  ,0.3 ,0.  ,0.11,0.  ,0.22,0.  ,0.18,0.  ,0.  ,0.04,0.15,0.  ]\n"
     ]
    }
   ],
   "source": [
    "setup_board(pl)\n",
    "nn_pred(pl)\n",
    "r = mcts_pred(pl)"
   ]
  },
  {
   "cell_type": "code",
   "execution_count": 15,
   "metadata": {},
   "outputs": [
    {
     "name": "stdout",
     "output_type": "stream",
     "text": [
      "MCTS only prediction took 0.199 sec\n",
      "Probs: [0.01,0.01,0.  ,0.  ,0.44,0.01,0.01,0.  ,0.01,0.01,0.44,0.  ,0.01,0.01,0.01,0.  ]\n"
     ]
    },
    {
     "data": {
      "text/plain": [
       "<MCTS.Node at 0x24c2c22c1d0>"
      ]
     },
     "execution_count": 15,
     "metadata": {},
     "output_type": "execute_result"
    }
   ],
   "source": [
    "mcts_only_pred(pl)"
   ]
  },
  {
   "cell_type": "code",
   "execution_count": 16,
   "metadata": {},
   "outputs": [
    {
     "name": "stdout",
     "output_type": "stream",
     "text": [
      " -> v:-0.81 n:150 p:1.0 tp:1\n",
      "  4 -> v:1.0 n:44 p:0.13 tp:-1\n",
      "  6 -> v:0.88 n:16 p:0.12 tp:-1\n",
      "    0 -> v:-1.0 n:1 p:0.014 tp:1\n",
      "    4 -> v:-0.92 n:6 p:0.62 tp:1\n",
      "    5 -> v:-1.0 n:1 p:0.0098 tp:1\n",
      "    6 -> v:-1.0 n:1 p:0.11 tp:1\n",
      "    8 -> v:-1.0 n:1 p:0.07 tp:1\n",
      "    9 -> v:-1.0 n:1 p:0.057 tp:1\n",
      "    10 -> v:-1.0 n:1 p:0.07 tp:1\n",
      "    12 -> v:-1.0 n:1 p:0.0074 tp:1\n",
      "    13 -> v:-1.0 n:1 p:0.022 tp:1\n",
      "    14 -> v:-1.0 n:1 p:0.021 tp:1\n",
      "  8 -> v:0.79 n:33 p:0.32 tp:-1\n",
      "    0 -> v:-1.0 n:1 p:0.018 tp:1\n",
      "    1 -> v:-1.0 n:1 p:0.0043 tp:1\n",
      "    4 -> v:-0.82 n:13 p:0.35 tp:1\n",
      "    5 -> v:-1.0 n:1 p:0.009 tp:1\n",
      "    6 -> v:-0.82 n:6 p:0.17 tp:1\n",
      "    8 -> v:-0.88 n:4 p:0.15 tp:1\n",
      "    9 -> v:-1.0 n:1 p:0.074 tp:1\n",
      "    10 -> v:-0.95 n:2 p:0.1 tp:1\n",
      "    12 -> v:-1.0 n:1 p:0.015 tp:1\n",
      "    13 -> v:-1.0 n:1 p:0.034 tp:1\n",
      "    14 -> v:-1.0 n:1 p:0.074 tp:1\n",
      "  10 -> v:1.0 n:27 p:0.08 tp:-1\n",
      "  13 -> v:0.9 n:6 p:0.04 tp:-1\n",
      "    4 -> v:-0.95 n:2 p:0.5 tp:1\n",
      "    6 -> v:-1.0 n:1 p:0.085 tp:1\n",
      "    8 -> v:-1.0 n:1 p:0.12 tp:1\n",
      "    10 -> v:-1.0 n:1 p:0.14 tp:1\n",
      "  14 -> v:0.83 n:23 p:0.2 tp:-1\n",
      "    0 -> v:-1.0 n:1 p:0.019 tp:1\n",
      "    1 -> v:-1.0 n:1 p:0.0031 tp:1\n",
      "    4 -> v:-0.88 n:5 p:0.29 tp:1\n",
      "    5 -> v:-1.0 n:1 p:0.0046 tp:1\n",
      "    6 -> v:-1.0 n:1 p:0.025 tp:1\n",
      "    8 -> v:-1.0 n:1 p:0.087 tp:1\n",
      "    9 -> v:-1.0 n:1 p:0.051 tp:1\n",
      "    10 -> v:-0.83 n:8 p:0.4 tp:1\n",
      "    12 -> v:-1.0 n:1 p:0.012 tp:1\n",
      "    13 -> v:-1.0 n:1 p:0.014 tp:1\n",
      "    14 -> v:-1.0 n:1 p:0.093 tp:1\n"
     ]
    }
   ],
   "source": [
    "r.print(3)"
   ]
  },
  {
   "cell_type": "markdown",
   "metadata": {},
   "source": [
    "### State requires defense against 2 step win as player 2"
   ]
  },
  {
   "cell_type": "code",
   "execution_count": 43,
   "metadata": {},
   "outputs": [
    {
     "name": "stdout",
     "output_type": "stream",
     "text": [
      "NN prediction took 0.022 sec\n",
      "NNet: [0.1 ,0.29,0.05,0.27,0.  ,0.  ,0.01,0.01,0.03,0.19,0.01,0.  ,0.01,0.02,0.  ,0.  ]\n",
      "MCTS: [0.35,0.41,0.02,0.12,0.  ,0.  ,0.  ,0.  ,0.  ,0.1 ,0.  ,0.  ,0.  ,0.  ,0.  ,0.  ]\n",
      "MCTS made valid play: 1 (expected: [1, 2, 9]) in  3.281 sec\n"
     ]
    }
   ],
   "source": [
    "play, valid = [0,7,3,11,5,15,13], [1,2,9]\n",
    "test_mcts(play, valid);"
   ]
  },
  {
   "cell_type": "code",
   "execution_count": 10,
   "metadata": {},
   "outputs": [
    {
     "name": "stdout",
     "output_type": "stream",
     "text": [
      "MCTS only prediction took 97.231 sec\n",
      "Probs: [0.05,0.24,0.05,0.05,0.05,0.05,0.05,0.05,0.05,0.09,0.05,0.05,0.05,0.05,0.05,0.05]\n",
      "MCTS canonical only prediction took 95.508 sec\n",
      "Probs: [0.05,0.24,0.05,0.05,0.05,0.05,0.05,0.05,0.05,0.09,0.05,0.05,0.05,0.05,0.05,0.05]\n"
     ]
    }
   ],
   "source": [
    "config.num_mcts_sims = 40000\n",
    "play = [0,7,3,11,5,15,13]\n",
    "\n",
    "r1 = mcts_only_pred(play) # differs from test_mcts, direct canonical vs this\n",
    "rc = mcts_c_only_pred(play)"
   ]
  },
  {
   "cell_type": "markdown",
   "metadata": {},
   "source": [
    "### Required defense against 1 step win"
   ]
  },
  {
   "cell_type": "code",
   "execution_count": 9,
   "metadata": {
    "scrolled": true
   },
   "outputs": [
    {
     "name": "stdout",
     "output_type": "stream",
     "text": [
      "z3+--------+\n",
      "3 |- - - - |\n",
      "2 |- - - - |\n",
      "1 |- - - - |\n",
      "0 |- - - - |\n",
      "z3+--------+\n",
      "   0 1 2 3 \n",
      "z2+--------+\n",
      "3 |- - - - |\n",
      "2 |- - - - |\n",
      "1 |- - - - |\n",
      "0 |O - - - |\n",
      "z2+--------+\n",
      "   0 1 2 3 \n",
      "z1+--------+\n",
      "3 |- - - - |\n",
      "2 |- - - - |\n",
      "1 |- - - - |\n",
      "0 |O X - - |\n",
      "z1+--------+\n",
      "   0 1 2 3 \n",
      "z0+--------+\n",
      "3 |- - - - |\n",
      "2 |- - - - |\n",
      "1 |- - - - |\n",
      "0 |O X - - |\n",
      "z0+--------+\n",
      "   0 1 2 3 \n",
      "--\n",
      "NN prediction took 0.699 sec\n",
      "Probs: [0.9 ,0.  ,0.  ,0.01,0.  ,0.01,0.01,0.  ,0.01,0.  ,0.01,0.01,0.  ,0.  ,0.02,0.01] Value: -0.64\n",
      "MCTS prediction took 22.706 sec\n",
      "Probs: [0.95,0.02,0.  ,0.  ,0.  ,0.  ,0.  ,0.  ,0.  ,0.  ,0.  ,0.  ,0.  ,0.  ,0.  ,0.  ]\n",
      "MCTS only prediction took 2.476 sec\n",
      "Probs: [0.68,0.02,0.02,0.02,0.02,0.02,0.02,0.02,0.02,0.02,0.02,0.02,0.02,0.02,0.02,0.02]\n"
     ]
    },
    {
     "data": {
      "text/plain": [
       "<MCTS.Node at 0x126a62f28>"
      ]
     },
     "execution_count": 9,
     "metadata": {},
     "output_type": "execute_result"
    }
   ],
   "source": [
    "config.num_mcts_sims = 1000\n",
    "play, valid  = [0,1,0,1,0], 1\n",
    "nn_pred(play)\n",
    "mcts_pred(play)"
   ]
  },
  {
   "cell_type": "code",
   "execution_count": 10,
   "metadata": {},
   "outputs": [
    {
     "name": "stdout",
     "output_type": "stream",
     "text": [
      "z3+--------+\n",
      "3 |- - - - |\n",
      "2 |- - - - |\n",
      "1 |- - - - |\n",
      "0 |- - - - |\n",
      "z3+--------+\n",
      "   0 1 2 3 \n",
      "z2+--------+\n",
      "3 |- - - - |\n",
      "2 |- - - - |\n",
      "1 |- - - - |\n",
      "0 |- - O - |\n",
      "z2+--------+\n",
      "   0 1 2 3 \n",
      "z1+--------+\n",
      "3 |- - - - |\n",
      "2 |- - - - |\n",
      "1 |- - - - |\n",
      "0 |- X O - |\n",
      "z1+--------+\n",
      "   0 1 2 3 \n",
      "z0+--------+\n",
      "3 |- - - - |\n",
      "2 |- - - - |\n",
      "1 |- - - - |\n",
      "0 |- X O - |\n",
      "z0+--------+\n",
      "   0 1 2 3 \n",
      "--\n",
      "NN prediction took 0.040 sec\n",
      "Probs: [0.01,0.  ,0.91,0.01,0.01,0.01,0.  ,0.  ,0.  ,0.01,0.  ,0.01,0.01,0.01,0.  ,0.01] Value: 0.81\n",
      "MCTS prediction took 2.208 sec\n",
      "Probs: [0.01,0.  ,0.85,0.02,0.02,0.01,0.01,0.  ,0.  ,0.02,0.  ,0.01,0.02,0.02,0.  ,0.01]\n",
      "MCTS only prediction took 0.215 sec\n",
      "Probs: [0.06,0.06,0.06,0.06,0.06,0.06,0.06,0.06,0.06,0.06,0.06,0.06,0.06,0.07,0.07,0.07]\n"
     ]
    },
    {
     "data": {
      "text/plain": [
       "<MCTS.Node at 0x12a7abfd0>"
      ]
     },
     "execution_count": 10,
     "metadata": {},
     "output_type": "execute_result"
    }
   ],
   "source": [
    "config.num_mcts_sims = 100\n",
    "play = [2,1,2,1,2]\n",
    "nn_pred(play)\n",
    "mcts_pred(play)\n",
    "mcts_only_pred(play)"
   ]
  },
  {
   "cell_type": "code",
   "execution_count": 18,
   "metadata": {},
   "outputs": [
    {
     "name": "stdout",
     "output_type": "stream",
     "text": [
      "z3+--------+\n",
      "3 |- - - - |\n",
      "2 |- - - - |\n",
      "1 |- - - - |\n",
      "0 |- - - - |\n",
      "z3+--------+\n",
      "   0 1 2 3 \n",
      "z2+--------+\n",
      "3 |- - - - |\n",
      "2 |- - - - |\n",
      "1 |- - - - |\n",
      "0 |- - O - |\n",
      "z2+--------+\n",
      "   0 1 2 3 \n",
      "z1+--------+\n",
      "3 |- - - - |\n",
      "2 |- - - - |\n",
      "1 |- - - - |\n",
      "0 |- X O - |\n",
      "z1+--------+\n",
      "   0 1 2 3 \n",
      "z0+--------+\n",
      "3 |- - - - |\n",
      "2 |- - - - |\n",
      "1 |- - - - |\n",
      "0 |- X O - |\n",
      "z0+--------+\n",
      "   0 1 2 3 \n",
      "--\n",
      "NN prediction took 0.013 sec\n",
      "Probs: [0.04,0.05,0.44,0.02,0.04,0.04,0.04,0.02,0.02,0.04,0.05,0.04,0.03,0.05,0.05,0.04] Value: 0.90\n",
      "MCTS prediction took 1.370 sec\n",
      "Probs: [0.01,0.15,0.41,0.01,0.05,0.01,0.01,0.01,0.03,0.04,0.11,0.03,0.01,0.05,0.01,0.06]\n",
      "MCTS only prediction took 0.109 sec\n",
      "Probs: [0.06,0.06,0.06,0.06,0.06,0.06,0.06,0.06,0.06,0.06,0.06,0.06,0.07,0.07,0.07,0.07]\n"
     ]
    }
   ],
   "source": [
    "config.num_mcts_sims = 100\n",
    "play = [2,1,2,1,2]\n",
    "nn_pred(play)\n",
    "r1 = mcts_pred(play)\n",
    "r0 = mcts_only_pred(play)"
   ]
  },
  {
   "cell_type": "code",
   "execution_count": 20,
   "metadata": {},
   "outputs": [
    {
     "name": "stdout",
     "output_type": "stream",
     "text": [
      "z3+--------+\n",
      "3 |- - - - |\n",
      "2 |- - - - |\n",
      "1 |- - - - |\n",
      "0 |- - X - |\n",
      "z3+--------+\n",
      "   0 1 2 3 \n",
      "z2+--------+\n",
      "3 |- - - - |\n",
      "2 |- - - - |\n",
      "1 |- - - - |\n",
      "0 |- - O - |\n",
      "z2+--------+\n",
      "   0 1 2 3 \n",
      "z1+--------+\n",
      "3 |- - - - |\n",
      "2 |- - - - |\n",
      "1 |- - - - |\n",
      "0 |- X O - |\n",
      "z1+--------+\n",
      "   0 1 2 3 \n",
      "z0+--------+\n",
      "3 |- - - - |\n",
      "2 |- - - - |\n",
      "1 |- - - - |\n",
      "0 |- X O - |\n",
      "z0+--------+\n",
      "   0 1 2 3 \n",
      "--\n",
      "NN prediction took 0.013 sec\n",
      "Probs: [0.06,0.06,0.  ,0.07,0.06,0.11,0.08,0.06,0.05,0.06,0.06,0.05,0.08,0.04,0.11,0.06] Value: -0.27\n",
      "MCTS prediction took 1.953 sec\n",
      "Probs: [0.22,0.02,0.  ,0.02,0.02,0.07,0.09,0.06,0.04,0.02,0.09,0.01,0.02,0.01,0.29,0.02]\n",
      "MCTS only prediction took 0.111 sec\n",
      "Probs: [0.06,0.06,0.  ,0.06,0.06,0.06,0.07,0.07,0.07,0.07,0.07,0.07,0.07,0.07,0.07,0.07]\n"
     ]
    },
    {
     "data": {
      "text/plain": [
       "<MCTS.Node at 0x1d1b721e3c8>"
      ]
     },
     "execution_count": 20,
     "metadata": {},
     "output_type": "execute_result"
    }
   ],
   "source": [
    "config.num_mcts_sims = 100\n",
    "play = [2,1,2,1,2,2]\n",
    "nn_pred(play)\n",
    "mcts_pred(play)\n",
    "mcts_only_pred(play)"
   ]
  },
  {
   "cell_type": "markdown",
   "metadata": {},
   "source": [
    "### States that requires defense against 1 step win"
   ]
  },
  {
   "cell_type": "code",
   "execution_count": 20,
   "metadata": {},
   "outputs": [
    {
     "name": "stdout",
     "output_type": "stream",
     "text": [
      "z3+--------+\n",
      "3 |- - - - |\n",
      "2 |- - - - |\n",
      "1 |- - - - |\n",
      "0 |- - - - |\n",
      "z3+--------+\n",
      "   0 1 2 3 \n",
      "z2+--------+\n",
      "3 |- - - - |\n",
      "2 |- - - - |\n",
      "1 |- - - - |\n",
      "0 |O - - - |\n",
      "z2+--------+\n",
      "   0 1 2 3 \n",
      "z1+--------+\n",
      "3 |- - - - |\n",
      "2 |X - - - |\n",
      "1 |- - - - |\n",
      "0 |O - - - |\n",
      "z1+--------+\n",
      "   0 1 2 3 \n",
      "z0+--------+\n",
      "3 |- - - - |\n",
      "2 |X - - - |\n",
      "1 |- - - - |\n",
      "0 |O - - - |\n",
      "z0+--------+\n",
      "   0 1 2 3 \n",
      "--\n",
      "z3+--------+\n",
      "3 |- - - - |\n",
      "2 |- - - - |\n",
      "1 |- - - - |\n",
      "0 |X - - - |\n",
      "z3+--------+\n",
      "   0 1 2 3 \n",
      "z2+--------+\n",
      "3 |- - - - |\n",
      "2 |- - - - |\n",
      "1 |- - - - |\n",
      "0 |O - - - |\n",
      "z2+--------+\n",
      "   0 1 2 3 \n",
      "z1+--------+\n",
      "3 |- - - - |\n",
      "2 |X - - - |\n",
      "1 |- - - - |\n",
      "0 |O - - - |\n",
      "z1+--------+\n",
      "   0 1 2 3 \n",
      "z0+--------+\n",
      "3 |- - - - |\n",
      "2 |X - - - |\n",
      "1 |- - - - |\n",
      "0 |O - - - |\n",
      "z0+--------+\n",
      "   0 1 2 3 \n",
      "--\n",
      "MCTS made correct play in  11.332 sec\n"
     ]
    }
   ],
   "source": [
    "test_mcts([0,8,0,8,0],0);"
   ]
  },
  {
   "cell_type": "markdown",
   "metadata": {},
   "source": [
    "### State requires defense against 2 step win as player 1"
   ]
  },
  {
   "cell_type": "code",
   "execution_count": 22,
   "metadata": {},
   "outputs": [
    {
     "name": "stdout",
     "output_type": "stream",
     "text": [
      "z3+--------+\n",
      "3 |- - - - |\n",
      "2 |- - - - |\n",
      "1 |- - - - |\n",
      "0 |- - - - |\n",
      "z3+--------+\n",
      "   0 1 2 3 \n",
      "z2+--------+\n",
      "3 |- - - - |\n",
      "2 |- - - - |\n",
      "1 |- - - - |\n",
      "0 |- - - - |\n",
      "z2+--------+\n",
      "   0 1 2 3 \n",
      "z1+--------+\n",
      "3 |- - - - |\n",
      "2 |- - - - |\n",
      "1 |- - - - |\n",
      "0 |- - - - |\n",
      "z1+--------+\n",
      "   0 1 2 3 \n",
      "z0+--------+\n",
      "3 |O X - O |\n",
      "2 |- - - O |\n",
      "1 |- X - O |\n",
      "0 |X - - X |\n",
      "z0+--------+\n",
      "   0 1 2 3 \n",
      "--\n",
      "z3+--------+\n",
      "3 |- - - - |\n",
      "2 |- - - - |\n",
      "1 |- - - - |\n",
      "0 |- - - - |\n",
      "z3+--------+\n",
      "   0 1 2 3 \n",
      "z2+--------+\n",
      "3 |- - - - |\n",
      "2 |- - - - |\n",
      "1 |- - - - |\n",
      "0 |- - - - |\n",
      "z2+--------+\n",
      "   0 1 2 3 \n",
      "z1+--------+\n",
      "3 |- - - - |\n",
      "2 |- - - - |\n",
      "1 |- - - - |\n",
      "0 |- - - - |\n",
      "z1+--------+\n",
      "   0 1 2 3 \n",
      "z0+--------+\n",
      "3 |O X - O |\n",
      "2 |- O - O |\n",
      "1 |- X - O |\n",
      "0 |X - - X |\n",
      "z0+--------+\n",
      "   0 1 2 3 \n",
      "--\n",
      "MCTS made incorrect play in  11.554 sec\n"
     ]
    }
   ],
   "source": [
    "test_mcts([12,0,7,3,11,5,15,13],1);"
   ]
  },
  {
   "cell_type": "markdown",
   "metadata": {},
   "source": [
    "### State with 2 step win as player 1"
   ]
  },
  {
   "cell_type": "code",
   "execution_count": 24,
   "metadata": {},
   "outputs": [
    {
     "name": "stdout",
     "output_type": "stream",
     "text": [
      "z3+--------+\n",
      "3 |- - - - |\n",
      "2 |- - - - |\n",
      "1 |- - - - |\n",
      "0 |- - - - |\n",
      "z3+--------+\n",
      "   0 1 2 3 \n",
      "z2+--------+\n",
      "3 |- - - - |\n",
      "2 |- - - - |\n",
      "1 |- - - - |\n",
      "0 |- - - - |\n",
      "z2+--------+\n",
      "   0 1 2 3 \n",
      "z1+--------+\n",
      "3 |- - - - |\n",
      "2 |- - - - |\n",
      "1 |- - - - |\n",
      "0 |- - - - |\n",
      "z1+--------+\n",
      "   0 1 2 3 \n",
      "z0+--------+\n",
      "3 |X O - X |\n",
      "2 |- - - X |\n",
      "1 |- O - X |\n",
      "0 |O - - O |\n",
      "z0+--------+\n",
      "   0 1 2 3 \n",
      "--\n",
      "z3+--------+\n",
      "3 |- - - - |\n",
      "2 |- - - - |\n",
      "1 |- - - - |\n",
      "0 |- - - - |\n",
      "z3+--------+\n",
      "   0 1 2 3 \n",
      "z2+--------+\n",
      "3 |- - - - |\n",
      "2 |- - - - |\n",
      "1 |- - - - |\n",
      "0 |- - - - |\n",
      "z2+--------+\n",
      "   0 1 2 3 \n",
      "z1+--------+\n",
      "3 |- - - - |\n",
      "2 |- - - - |\n",
      "1 |- - - - |\n",
      "0 |- - - - |\n",
      "z1+--------+\n",
      "   0 1 2 3 \n",
      "z0+--------+\n",
      "3 |X O - X |\n",
      "2 |- - - X |\n",
      "1 |- O - X |\n",
      "0 |O O - O |\n",
      "z0+--------+\n",
      "   0 1 2 3 \n",
      "--\n",
      "MCTS made correct play in  5.456 sec\n"
     ]
    }
   ],
   "source": [
    "test_mcts([0,7,3,11,5,15,13,12],1);"
   ]
  },
  {
   "cell_type": "markdown",
   "metadata": {},
   "source": [
    "### State with 2 step win as player 2"
   ]
  },
  {
   "cell_type": "code",
   "execution_count": 23,
   "metadata": {
    "scrolled": false
   },
   "outputs": [
    {
     "name": "stdout",
     "output_type": "stream",
     "text": [
      "z3+--------+\n",
      "3 |- - - - |\n",
      "2 |- - - - |\n",
      "1 |- - - - |\n",
      "0 |- - - - |\n",
      "z3+--------+\n",
      "   0 1 2 3 \n",
      "z2+--------+\n",
      "3 |- - - - |\n",
      "2 |- - - - |\n",
      "1 |- - - - |\n",
      "0 |- - - - |\n",
      "z2+--------+\n",
      "   0 1 2 3 \n",
      "z1+--------+\n",
      "3 |- - - - |\n",
      "2 |- - - - |\n",
      "1 |- - - - |\n",
      "0 |- - - - |\n",
      "z1+--------+\n",
      "   0 1 2 3 \n",
      "z0+--------+\n",
      "3 |O X O O |\n",
      "2 |- - - O |\n",
      "1 |- X - O |\n",
      "0 |X - - X |\n",
      "z0+--------+\n",
      "   0 1 2 3 \n",
      "--\n",
      "z3+--------+\n",
      "3 |- - - - |\n",
      "2 |- - - - |\n",
      "1 |- - - - |\n",
      "0 |- - - - |\n",
      "z3+--------+\n",
      "   0 1 2 3 \n",
      "z2+--------+\n",
      "3 |- - - - |\n",
      "2 |- - - - |\n",
      "1 |- - - - |\n",
      "0 |- - - - |\n",
      "z2+--------+\n",
      "   0 1 2 3 \n",
      "z1+--------+\n",
      "3 |- - - - |\n",
      "2 |- - - - |\n",
      "1 |- - - - |\n",
      "0 |- - - - |\n",
      "z1+--------+\n",
      "   0 1 2 3 \n",
      "z0+--------+\n",
      "3 |O X O O |\n",
      "2 |- - - O |\n",
      "1 |- X - O |\n",
      "0 |X X - X |\n",
      "z0+--------+\n",
      "   0 1 2 3 \n",
      "--\n",
      "MCTS made correct play in  5.127 sec\n"
     ]
    }
   ],
   "source": [
    "test_mcts([14,0,7,3,11,5,15,13,12],1);"
   ]
  },
  {
   "cell_type": "markdown",
   "metadata": {},
   "source": [
    "#### Other Stuff"
   ]
  },
  {
   "cell_type": "raw",
   "metadata": {
    "scrolled": true
   },
   "source": [
    "for filter in [\n",
    "        list(range(16)),\n",
    "        {1:{a: [2,9] for a in range(16)}},\n",
    "        {9:list(range(16))},\n",
    "        {10:None}\n",
    "    ]:\n",
    "    for d,r in [('canoical', rc), ('usual',r1)]:\n",
    "        print(d, filter)\n",
    "        r.print(filter=filter)"
   ]
  }
 ],
 "metadata": {
  "kernelspec": {
   "display_name": "Python 3",
   "language": "python",
   "name": "python3"
  },
  "language_info": {
   "codemirror_mode": {
    "name": "ipython",
    "version": 3
   },
   "file_extension": ".py",
   "mimetype": "text/x-python",
   "name": "python",
   "nbconvert_exporter": "python",
   "pygments_lexer": "ipython3",
   "version": "3.6.6"
  }
 },
 "nbformat": 4,
 "nbformat_minor": 2
}
