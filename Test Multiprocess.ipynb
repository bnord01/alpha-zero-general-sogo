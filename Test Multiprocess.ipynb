{
 "cells": [
  {
   "cell_type": "code",
   "execution_count": 5,
   "metadata": {
    "colab": {},
    "colab_type": "code",
    "id": "AGqrxmYfkV1f"
   },
   "outputs": [],
   "source": [
    "from MCTS import MCTS\n",
    "\n",
    "from sogo.SogoGame import SogoGame, display as display_board\n",
    "import numpy as np\n",
    "from sogo.keras.NNet import NNetWrapper as NNet\n",
    "from Timer import Timer\n",
    "\n",
    "def display_probs(pi, prefix=\"Probs\"):\n",
    "    print(f\"{prefix}: {np.array2string(np.array(pi), precision=2, separator=',', suppress_small=True, max_line_width=200)}\")\n",
    "\n",
    "class Config(object):\n",
    "    def __init__(self):    \n",
    "      self.num_sampling_moves = 30\n",
    "      self.max_moves = 512  # for chess and shogi, 722 for Go.\n",
    "      self.num_mcts_sims = 50\n",
    "\n",
    "      # Root prior exploration noise.\n",
    "      self.root_dirichlet_alpha = 0.3  # for chess, 0.03 for Go and 0.15 for shogi.\n",
    "      self.root_exploration_fraction = 0.0\n",
    "\n",
    "      # UCB formula\n",
    "      self.pb_c_base = 19652\n",
    "      self.pb_c_init = 1.25\n",
    "\n",
    "      # Load model\n",
    "\n",
    "      self.load_model = True\n",
    "      self.load_folder_file = ('./save/','mixed3.h5')\n",
    "        \n",
    "    def initialize(self):\n",
    "        global config \n",
    "        config = self\n",
    "        self.game = SogoGame(4)\n",
    "\n",
    "        self.nn = NNet(self.game)\n",
    "        self.nn.load_checkpoint(*(config.load_folder_file))\n",
    "\n",
    "        self.mcts = MCTS(self.game, self.nn, self)\n",
    "\n",
    "    def setup_board(self, plays,verbose=True): \n",
    "        board = self.game.init_board()\n",
    "        player = 1    \n",
    "        for play in plays:\n",
    "            board, player = self.game.next_state(board, player,play)\n",
    "        return board, player\n",
    "    \n",
    "    def mcts_pred(self, plays, root=None, verbose=False):\n",
    "        b,p = self.setup_board(plays, verbose = verbose)\n",
    "        with Timer(\"MCTS prediction\"):\n",
    "            pi, root = self.mcts.get_action_prob(b, p, root)\n",
    "        display_probs(pi,\"MCTS\")\n",
    "        return pi\n",
    "          \n",
    "    def test(self,blah):\n",
    "          return np.sum(blah)\n",
    "\n",
    "          \n",
    "config = Config()\n",
    "          \n",
    "def mcts_task(value):\n",
    "    global config\n",
    "    return config.mcts_pred(value)"
   ]
  },
  {
   "cell_type": "code",
   "execution_count": 6,
   "metadata": {},
   "outputs": [],
   "source": [
    "from multiprocessing import Pool"
   ]
  },
  {
   "cell_type": "code",
   "execution_count": 7,
   "metadata": {},
   "outputs": [
    {
     "name": "stdout",
     "output_type": "stream",
     "text": [
      "MCTS prediction took 2.522 sec\n",
      "MCTS prediction took 2.540 sec\n",
      "MCTS prediction took 2.551 sec\n",
      "MCTS: [0.02,0.04,0.  ,0.02,0.02,0.2 ,0.  ,0.02,0.02,0.  ,0.  ,0.02,0.31,0.02,0.  ,0.31]\n",
      "MCTS: [0.  ,0.  ,0.  ,0.  ,0.  ,0.  ,0.06,0.  ,0.  ,0.1 ,0.  ,0.  ,0.  ,0.  ,0.  ,0.84]\n",
      "MCTS: [0.16,0.  ,0.  ,0.16,0.  ,0.08,0.1 ,0.  ,0.  ,0.08,0.1 ,0.  ,0.16,0.  ,0.  ,0.14]\n",
      "MCTS prediction took 1.385 sec\n",
      "MCTS: [0.02,0.04,0.  ,0.02,0.02,0.2 ,0.  ,0.02,0.02,0.  ,0.  ,0.02,0.31,0.02,0.  ,0.31]\n",
      "MCTS prediction took 1.387 sec\n",
      "MCTS: [0.  ,0.  ,0.  ,0.  ,0.  ,0.  ,0.06,0.  ,0.  ,0.1 ,0.  ,0.  ,0.  ,0.  ,0.  ,0.84]\n",
      "MCTS prediction took 2.213 sec\n",
      "MCTS: [0.16,0.  ,0.  ,0.16,0.  ,0.08,0.1 ,0.  ,0.  ,0.08,0.1 ,0.  ,0.16,0.  ,0.  ,0.14]\n"
     ]
    }
   ],
   "source": [
    "pool = Pool(4, initializer=config.initialize)"
   ]
  },
  {
   "cell_type": "code",
   "execution_count": 9,
   "metadata": {},
   "outputs": [
    {
     "data": {
      "text/plain": [
       "[[0.16326530612244897,\n",
       "  0.0,\n",
       "  0.0,\n",
       "  0.16326530612244897,\n",
       "  0.0,\n",
       "  0.08163265306122448,\n",
       "  0.10204081632653061,\n",
       "  0.0,\n",
       "  0.0,\n",
       "  0.08163265306122448,\n",
       "  0.10204081632653061,\n",
       "  0.0,\n",
       "  0.16326530612244897,\n",
       "  0.0,\n",
       "  0.0,\n",
       "  0.14285714285714285],\n",
       " [0.02040816326530612,\n",
       "  0.04081632653061224,\n",
       "  0.0,\n",
       "  0.02040816326530612,\n",
       "  0.02040816326530612,\n",
       "  0.20408163265306123,\n",
       "  0.0,\n",
       "  0.02040816326530612,\n",
       "  0.02040816326530612,\n",
       "  0.0,\n",
       "  0.0,\n",
       "  0.02040816326530612,\n",
       "  0.30612244897959184,\n",
       "  0.02040816326530612,\n",
       "  0.0,\n",
       "  0.30612244897959184],\n",
       " [0,\n",
       "  0.0,\n",
       "  0.0,\n",
       "  0.0,\n",
       "  0.0,\n",
       "  0.0,\n",
       "  0.061224489795918366,\n",
       "  0.0,\n",
       "  0.0,\n",
       "  0.10204081632653061,\n",
       "  0.0,\n",
       "  0.0,\n",
       "  0.0,\n",
       "  0.0,\n",
       "  0.0,\n",
       "  0.8367346938775511]]"
      ]
     },
     "execution_count": 9,
     "metadata": {},
     "output_type": "execute_result"
    }
   ],
   "source": [
    "pool.map(mcts_task,[[],[0,1,0],[0,0,0,0]])"
   ]
  },
  {
   "cell_type": "code",
   "execution_count": null,
   "metadata": {},
   "outputs": [],
   "source": []
  }
 ],
 "metadata": {
  "colab": {
   "include_colab_link": true,
   "name": "Untitled0.ipynb",
   "provenance": [],
   "version": "0.3.2"
  },
  "kernelspec": {
   "display_name": "Python 3",
   "language": "python",
   "name": "python3"
  },
  "language_info": {
   "codemirror_mode": {
    "name": "ipython",
    "version": 3
   },
   "file_extension": ".py",
   "mimetype": "text/x-python",
   "name": "python",
   "nbconvert_exporter": "python",
   "pygments_lexer": "ipython3",
   "version": "3.6.8"
  }
 },
 "nbformat": 4,
 "nbformat_minor": 1
}
