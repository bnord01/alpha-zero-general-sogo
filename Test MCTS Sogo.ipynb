{
 "cells": [
  {
   "cell_type": "code",
   "execution_count": 3,
   "metadata": {},
   "outputs": [],
   "source": [
    "from MCTS import MCTS\n",
    "from sogo.SogoGame import SogoGame, display as display_board\n",
    "import numpy as np\n",
    "from NeuralNet import NeuralNet\n",
    "from Game import Game\n",
    "from Timer import Timer\n",
    "\n",
    "g = SogoGame(4)\n",
    "\n",
    "class Config(object):\n",
    "    def __init__(self):    \n",
    "      self.max_moves = 512  # for chess and shogi, 722 for Go.\n",
    "      self.num_mcts_sims = 2000\n",
    "\n",
    "      # Root prior exploration noise.\n",
    "      self.root_dirichlet_alpha = 0.3  # for chess, 0.03 for Go and 0.15 for shogi.\n",
    "      self.root_exploration_fraction = 0.0\n",
    "\n",
    "      # UCB formula\n",
    "      self.pb_c_base = 19652\n",
    "      self.pb_c_init = 1.25\n",
    "\n",
    "\n",
    "class NN(NeuralNet):\n",
    "  def __init__(self,game:Game):\n",
    "    self.game = game\n",
    "  def predict(self, board):\n",
    "    return np.ones(self.game.action_size())/self.game.action_size(), 0\n",
    "\n",
    "config = Config()\n",
    "\n",
    "nn = NN(g)\n",
    "mcts1 = MCTS(g, nn, config)\n",
    "def mcts_player(x, player):\n",
    "    cx = g.canonical_board(x,player)\n",
    "    pi, root = mcts1.get_action_prob(cx)\n",
    "    return np.argmax(pi), root"
   ]
  },
  {
   "cell_type": "code",
   "execution_count": 4,
   "metadata": {},
   "outputs": [],
   "source": [
    "def setup_board(plays): \n",
    "    board = g.init_board()\n",
    "    player = 1    \n",
    "    for play in plays:\n",
    "        board, player = g.next_state(board, player,play)\n",
    "    display_board(board)\n",
    "    return board, player"
   ]
  },
  {
   "cell_type": "code",
   "execution_count": 5,
   "metadata": {},
   "outputs": [],
   "source": [
    "def test_mcts(plays, expected):\n",
    "    board, player = setup_board(plays)    \n",
    "    with Timer() as t:\n",
    "        play, root = mcts_player(board, player)    \n",
    "    new_board, new_player = g.next_state(board, player, play)\n",
    "    display_board(new_board)\n",
    "    print(f\"MCTS made {'correct' if play == expected else 'incorrect' } play in  {t.interval:0.3f} sec\")\n",
    "    return root"
   ]
  },
  {
   "cell_type": "markdown",
   "metadata": {},
   "source": [
    "### State with easy win"
   ]
  },
  {
   "cell_type": "code",
   "execution_count": 6,
   "metadata": {},
   "outputs": [
    {
     "name": "stdout",
     "output_type": "stream",
     "text": [
      "z3+--------+\n",
      "3 |- - - - |\n",
      "2 |- - - - |\n",
      "1 |- - - - |\n",
      "0 |X - - - |\n",
      "z3+--------+\n",
      "   0 1 2 3 \n",
      "z2+--------+\n",
      "3 |- - - - |\n",
      "2 |- - - - |\n",
      "1 |- - - - |\n",
      "0 |X - - - |\n",
      "z2+--------+\n",
      "   0 1 2 3 \n",
      "z1+--------+\n",
      "3 |- - - - |\n",
      "2 |- - - - |\n",
      "1 |- - - - |\n",
      "0 |X - - - |\n",
      "z1+--------+\n",
      "   0 1 2 3 \n",
      "z0+--------+\n",
      "3 |- - - - |\n",
      "2 |O - - - |\n",
      "1 |- - - - |\n",
      "0 |X O - O |\n",
      "z0+--------+\n",
      "   0 1 2 3 \n",
      "--\n"
     ]
    }
   ],
   "source": [
    "b,p = setup_board([0,8,0,1,0,3,0])"
   ]
  },
  {
   "cell_type": "code",
   "execution_count": 7,
   "metadata": {},
   "outputs": [
    {
     "data": {
      "text/plain": [
       "-1"
      ]
     },
     "execution_count": 7,
     "metadata": {},
     "output_type": "execute_result"
    }
   ],
   "source": [
    "g.terminal_value(b,p)"
   ]
  },
  {
   "cell_type": "code",
   "execution_count": 8,
   "metadata": {},
   "outputs": [
    {
     "name": "stdout",
     "output_type": "stream",
     "text": [
      "z3+--------+\n",
      "3 |- - - - |\n",
      "2 |- - - - |\n",
      "1 |- - - - |\n",
      "0 |- - - - |\n",
      "z3+--------+\n",
      "   0 1 2 3 \n",
      "z2+--------+\n",
      "3 |- - - - |\n",
      "2 |O - - - |\n",
      "1 |- - - - |\n",
      "0 |X - - - |\n",
      "z2+--------+\n",
      "   0 1 2 3 \n",
      "z1+--------+\n",
      "3 |- - - - |\n",
      "2 |O - - - |\n",
      "1 |- - - - |\n",
      "0 |X - - - |\n",
      "z1+--------+\n",
      "   0 1 2 3 \n",
      "z0+--------+\n",
      "3 |- - - - |\n",
      "2 |O - - - |\n",
      "1 |- - - - |\n",
      "0 |X - - - |\n",
      "z0+--------+\n",
      "   0 1 2 3 \n",
      "--\n",
      "z3+--------+\n",
      "3 |- - - - |\n",
      "2 |- - - - |\n",
      "1 |- - - - |\n",
      "0 |X - - - |\n",
      "z3+--------+\n",
      "   0 1 2 3 \n",
      "z2+--------+\n",
      "3 |- - - - |\n",
      "2 |O - - - |\n",
      "1 |- - - - |\n",
      "0 |X - - - |\n",
      "z2+--------+\n",
      "   0 1 2 3 \n",
      "z1+--------+\n",
      "3 |- - - - |\n",
      "2 |O - - - |\n",
      "1 |- - - - |\n",
      "0 |X - - - |\n",
      "z1+--------+\n",
      "   0 1 2 3 \n",
      "z0+--------+\n",
      "3 |- - - - |\n",
      "2 |O - - - |\n",
      "1 |- - - - |\n",
      "0 |X - - - |\n",
      "z0+--------+\n",
      "   0 1 2 3 \n",
      "--\n",
      "MCTS made correct play in  4.158 sec\n"
     ]
    }
   ],
   "source": [
    "r = test_mcts([0,8,0,8,0,8],0)\n"
   ]
  },
  {
   "cell_type": "code",
   "execution_count": 5,
   "metadata": {},
   "outputs": [
    {
     "name": "stdout",
     "output_type": "stream",
     "text": [
      " -> v:-0.0035 n:2000 p:1.0 tp:-1\n",
      "  0 -> v:-1.0 n:7 p:0.062 tp:1\n",
      "  1 -> v:0.0075 n:133 p:0.062 tp:1\n",
      "  2 -> v:0.0075 n:133 p:0.062 tp:1\n",
      "  3 -> v:0.0075 n:134 p:0.062 tp:1\n",
      "  4 -> v:0.0075 n:134 p:0.062 tp:1\n",
      "  5 -> v:0.0075 n:134 p:0.062 tp:1\n",
      "  6 -> v:0.0075 n:134 p:0.062 tp:1\n",
      "  7 -> v:0.0075 n:134 p:0.062 tp:1\n",
      "  8 -> v:0.0 n:118 p:0.062 tp:1\n",
      "  9 -> v:0.0075 n:134 p:0.062 tp:1\n",
      "  10 -> v:0.0075 n:134 p:0.062 tp:1\n",
      "  11 -> v:0.0075 n:134 p:0.062 tp:1\n",
      "  12 -> v:0.0075 n:134 p:0.062 tp:1\n",
      "  13 -> v:0.0075 n:134 p:0.062 tp:1\n",
      "  14 -> v:0.0075 n:134 p:0.062 tp:1\n",
      "  15 -> v:0.0075 n:134 p:0.062 tp:1\n"
     ]
    }
   ],
   "source": [
    "r.print(2)"
   ]
  },
  {
   "cell_type": "markdown",
   "metadata": {},
   "source": [
    "### States that requires defense against 1 step win"
   ]
  },
  {
   "cell_type": "code",
   "execution_count": 22,
   "metadata": {},
   "outputs": [
    {
     "name": "stdout",
     "output_type": "stream",
     "text": [
      "z3+--------+\n",
      "3 |- - - - |\n",
      "2 |- - - - |\n",
      "1 |- - - - |\n",
      "0 |- - - - |\n",
      "z3+--------+\n",
      "   0 1 2 3 \n",
      "z2+--------+\n",
      "3 |- - - - |\n",
      "2 |- - - - |\n",
      "1 |- - - - |\n",
      "0 |O - - - |\n",
      "z2+--------+\n",
      "   0 1 2 3 \n",
      "z1+--------+\n",
      "3 |- - - - |\n",
      "2 |X - - - |\n",
      "1 |- - - - |\n",
      "0 |O - - - |\n",
      "z1+--------+\n",
      "   0 1 2 3 \n",
      "z0+--------+\n",
      "3 |- - - - |\n",
      "2 |X - - - |\n",
      "1 |- - - - |\n",
      "0 |O - - - |\n",
      "z0+--------+\n",
      "   0 1 2 3 \n",
      "--\n",
      "z3+--------+\n",
      "3 |- - - - |\n",
      "2 |- - - - |\n",
      "1 |- - - - |\n",
      "0 |- - - - |\n",
      "z3+--------+\n",
      "   0 1 2 3 \n",
      "z2+--------+\n",
      "3 |- - - - |\n",
      "2 |- - - - |\n",
      "1 |- - - - |\n",
      "0 |O - - - |\n",
      "z2+--------+\n",
      "   0 1 2 3 \n",
      "z1+--------+\n",
      "3 |- - - - |\n",
      "2 |X - - - |\n",
      "1 |- - - - |\n",
      "0 |O - - - |\n",
      "z1+--------+\n",
      "   0 1 2 3 \n",
      "z0+--------+\n",
      "3 |- - - - |\n",
      "2 |X - - - |\n",
      "1 |X - - - |\n",
      "0 |O - - - |\n",
      "z0+--------+\n",
      "   0 1 2 3 \n",
      "--\n",
      "MCTS made incorrect play in  0.933 sec\n"
     ]
    }
   ],
   "source": [
    "test_mcts([0,8,0,8,0],0);\n"
   ]
  },
  {
   "cell_type": "code",
   "execution_count": 7,
   "metadata": {},
   "outputs": [
    {
     "name": "stdout",
     "output_type": "stream",
     "text": [
      "z3+--------+\n",
      "3 |- - - - |\n",
      "2 |- - - - |\n",
      "1 |- - - - |\n",
      "0 |- - - - |\n",
      "z3+--------+\n",
      "   0 1 2 3 \n",
      "z2+--------+\n",
      "3 |- - - - |\n",
      "2 |- - - - |\n",
      "1 |- - - - |\n",
      "0 |- - - - |\n",
      "z2+--------+\n",
      "   0 1 2 3 \n",
      "z1+--------+\n",
      "3 |- - - - |\n",
      "2 |- - - - |\n",
      "1 |- - - - |\n",
      "0 |O - - - |\n",
      "z1+--------+\n",
      "   0 1 2 3 \n",
      "z0+--------+\n",
      "3 |- O - X |\n",
      "2 |- X - X |\n",
      "1 |- O - X |\n",
      "0 |O X - O |\n",
      "z0+--------+\n",
      "   0 1 2 3 \n",
      "--\n"
     ]
    },
    {
     "data": {
      "text/plain": [
       "0"
      ]
     },
     "execution_count": 7,
     "metadata": {},
     "output_type": "execute_result"
    }
   ],
   "source": [
    "b,p = setup_board([0,7,3,11,5,15,13,1,0,9]); # from 40k runs or so\n",
    "g.terminal_value(b,p)\n"
   ]
  },
  {
   "cell_type": "markdown",
   "metadata": {},
   "source": [
    "### State requires defense against 2 step win as player 2"
   ]
  },
  {
   "cell_type": "code",
   "execution_count": 8,
   "metadata": {},
   "outputs": [
    {
     "name": "stdout",
     "output_type": "stream",
     "text": [
      "z3+--------+\n",
      "3 |- - - - |\n",
      "2 |- - - - |\n",
      "1 |- - - - |\n",
      "0 |- - - - |\n",
      "z3+--------+\n",
      "   0 1 2 3 \n",
      "z2+--------+\n",
      "3 |- - - - |\n",
      "2 |- - - - |\n",
      "1 |- - - - |\n",
      "0 |- - - - |\n",
      "z2+--------+\n",
      "   0 1 2 3 \n",
      "z1+--------+\n",
      "3 |- - - - |\n",
      "2 |- - - - |\n",
      "1 |- - - - |\n",
      "0 |- - - - |\n",
      "z1+--------+\n",
      "   0 1 2 3 \n",
      "z0+--------+\n",
      "3 |- O - X |\n",
      "2 |- - - X |\n",
      "1 |- O - X |\n",
      "0 |O - - O |\n",
      "z0+--------+\n",
      "   0 1 2 3 \n",
      "--\n",
      "Canonical Board:\n",
      "z3+--------+\n",
      "3 |- - - - |\n",
      "2 |- - - - |\n",
      "1 |- - - - |\n",
      "0 |- - - - |\n",
      "z3+--------+\n",
      "   0 1 2 3 \n",
      "z2+--------+\n",
      "3 |- - - - |\n",
      "2 |- - - - |\n",
      "1 |- - - - |\n",
      "0 |- - - - |\n",
      "z2+--------+\n",
      "   0 1 2 3 \n",
      "z1+--------+\n",
      "3 |- - - - |\n",
      "2 |- - - - |\n",
      "1 |- - - - |\n",
      "0 |- - - - |\n",
      "z1+--------+\n",
      "   0 1 2 3 \n",
      "z0+--------+\n",
      "3 |- X - O |\n",
      "2 |- - - O |\n",
      "1 |- X - O |\n",
      "0 |X - - X |\n",
      "z0+--------+\n",
      "   0 1 2 3 \n",
      "--\n",
      "z3+--------+\n",
      "3 |- - - - |\n",
      "2 |- - - - |\n",
      "1 |- - - - |\n",
      "0 |- - - - |\n",
      "z3+--------+\n",
      "   0 1 2 3 \n",
      "z2+--------+\n",
      "3 |- - - - |\n",
      "2 |- - - - |\n",
      "1 |- - - - |\n",
      "0 |- - - - |\n",
      "z2+--------+\n",
      "   0 1 2 3 \n",
      "z1+--------+\n",
      "3 |- - - - |\n",
      "2 |- - - - |\n",
      "1 |- - - - |\n",
      "0 |- - - - |\n",
      "z1+--------+\n",
      "   0 1 2 3 \n",
      "z0+--------+\n",
      "3 |- O - X |\n",
      "2 |X - - X |\n",
      "1 |- O - X |\n",
      "0 |O - - O |\n",
      "z0+--------+\n",
      "   0 1 2 3 \n",
      "--\n",
      "MCTS made incorrect play in  0.932 sec\n"
     ]
    }
   ],
   "source": [
    "config.num_mcts_sims = 1000\n",
    "test_mcts([0,7,3,11,5,15,13],1);\n"
   ]
  },
  {
   "cell_type": "markdown",
   "metadata": {},
   "source": [
    "### State requires defense against 2 step win as player 1"
   ]
  },
  {
   "cell_type": "code",
   "execution_count": 23,
   "metadata": {},
   "outputs": [
    {
     "name": "stdout",
     "output_type": "stream",
     "text": [
      "z3+--------+\n",
      "3 |- - - - |\n",
      "2 |- - - - |\n",
      "1 |- - - - |\n",
      "0 |- - - - |\n",
      "z3+--------+\n",
      "   0 1 2 3 \n",
      "z2+--------+\n",
      "3 |- - - - |\n",
      "2 |- - - - |\n",
      "1 |- - - - |\n",
      "0 |- - - - |\n",
      "z2+--------+\n",
      "   0 1 2 3 \n",
      "z1+--------+\n",
      "3 |- - - - |\n",
      "2 |- - - - |\n",
      "1 |- - - - |\n",
      "0 |- - - - |\n",
      "z1+--------+\n",
      "   0 1 2 3 \n",
      "z0+--------+\n",
      "3 |O X - O |\n",
      "2 |- - - O |\n",
      "1 |- X - O |\n",
      "0 |X - - X |\n",
      "z0+--------+\n",
      "   0 1 2 3 \n",
      "--\n",
      "z3+--------+\n",
      "3 |- - - - |\n",
      "2 |- - - - |\n",
      "1 |- - - - |\n",
      "0 |- - - - |\n",
      "z3+--------+\n",
      "   0 1 2 3 \n",
      "z2+--------+\n",
      "3 |- - - - |\n",
      "2 |- - - - |\n",
      "1 |- - - - |\n",
      "0 |- - - - |\n",
      "z2+--------+\n",
      "   0 1 2 3 \n",
      "z1+--------+\n",
      "3 |- - - - |\n",
      "2 |- - - O |\n",
      "1 |- - - - |\n",
      "0 |- - - - |\n",
      "z1+--------+\n",
      "   0 1 2 3 \n",
      "z0+--------+\n",
      "3 |O X - O |\n",
      "2 |- - - O |\n",
      "1 |- X - O |\n",
      "0 |X - - X |\n",
      "z0+--------+\n",
      "   0 1 2 3 \n",
      "--\n",
      "MCTS made incorrect play in  42.099 sec\n"
     ]
    }
   ],
   "source": [
    "config.num_mcts_sims = 40000\n",
    "root = test_mcts([12,0,7,3,11,5,15,13],1);\n"
   ]
  },
  {
   "cell_type": "markdown",
   "metadata": {},
   "source": [
    "### State with 2 step win as player 1"
   ]
  },
  {
   "cell_type": "code",
   "execution_count": 16,
   "metadata": {
    "scrolled": false
   },
   "outputs": [
    {
     "name": "stdout",
     "output_type": "stream",
     "text": [
      "z3+--------+\n",
      "3 |- - - - |\n",
      "2 |- - - - |\n",
      "1 |- - - - |\n",
      "0 |- - - - |\n",
      "z3+--------+\n",
      "   0 1 2 3 \n",
      "z2+--------+\n",
      "3 |- - - - |\n",
      "2 |- - - - |\n",
      "1 |- - - - |\n",
      "0 |- - - - |\n",
      "z2+--------+\n",
      "   0 1 2 3 \n",
      "z1+--------+\n",
      "3 |- - - - |\n",
      "2 |- - - - |\n",
      "1 |- - - - |\n",
      "0 |- - - - |\n",
      "z1+--------+\n",
      "   0 1 2 3 \n",
      "z0+--------+\n",
      "3 |X O - X |\n",
      "2 |- - - X |\n",
      "1 |- O - X |\n",
      "0 |O - - O |\n",
      "z0+--------+\n",
      "   0 1 2 3 \n",
      "--\n",
      "z3+--------+\n",
      "3 |- - - - |\n",
      "2 |- - - - |\n",
      "1 |- - - - |\n",
      "0 |- - - - |\n",
      "z3+--------+\n",
      "   0 1 2 3 \n",
      "z2+--------+\n",
      "3 |- - - - |\n",
      "2 |- - - - |\n",
      "1 |- - - - |\n",
      "0 |- - - - |\n",
      "z2+--------+\n",
      "   0 1 2 3 \n",
      "z1+--------+\n",
      "3 |- - - - |\n",
      "2 |- - - - |\n",
      "1 |- - - - |\n",
      "0 |- - - - |\n",
      "z1+--------+\n",
      "   0 1 2 3 \n",
      "z0+--------+\n",
      "3 |X O - X |\n",
      "2 |- - - X |\n",
      "1 |- O - X |\n",
      "0 |O O - O |\n",
      "z0+--------+\n",
      "   0 1 2 3 \n",
      "--\n",
      "MCTS made correct play in  4.610 sec\n"
     ]
    }
   ],
   "source": [
    "config.num_mcts_sims = 4000 # works with 20k\n",
    "root = test_mcts([0,7,3,11,5,15,13,12],1);"
   ]
  },
  {
   "cell_type": "markdown",
   "metadata": {},
   "source": [
    "### State with 2 step win as player 2"
   ]
  },
  {
   "cell_type": "code",
   "execution_count": 26,
   "metadata": {
    "scrolled": false
   },
   "outputs": [
    {
     "name": "stdout",
     "output_type": "stream",
     "text": [
      "z3+--------+\n",
      "3 |- - - - |\n",
      "2 |- - - - |\n",
      "1 |- - - - |\n",
      "0 |- - - - |\n",
      "z3+--------+\n",
      "   0 1 2 3 \n",
      "z2+--------+\n",
      "3 |- - - - |\n",
      "2 |- - - - |\n",
      "1 |- - - - |\n",
      "0 |- - - - |\n",
      "z2+--------+\n",
      "   0 1 2 3 \n",
      "z1+--------+\n",
      "3 |- - - - |\n",
      "2 |- - - - |\n",
      "1 |- - - - |\n",
      "0 |- - - - |\n",
      "z1+--------+\n",
      "   0 1 2 3 \n",
      "z0+--------+\n",
      "3 |O X O O |\n",
      "2 |- - - O |\n",
      "1 |- X - O |\n",
      "0 |X - - X |\n",
      "z0+--------+\n",
      "   0 1 2 3 \n",
      "--\n",
      "z3+--------+\n",
      "3 |- - - - |\n",
      "2 |- - - - |\n",
      "1 |- - - - |\n",
      "0 |- - - - |\n",
      "z3+--------+\n",
      "   0 1 2 3 \n",
      "z2+--------+\n",
      "3 |- - - - |\n",
      "2 |- - - - |\n",
      "1 |- - - - |\n",
      "0 |- - - - |\n",
      "z2+--------+\n",
      "   0 1 2 3 \n",
      "z1+--------+\n",
      "3 |- - X - |\n",
      "2 |- - - - |\n",
      "1 |- - - - |\n",
      "0 |- - - - |\n",
      "z1+--------+\n",
      "   0 1 2 3 \n",
      "z0+--------+\n",
      "3 |O X O O |\n",
      "2 |- - - O |\n",
      "1 |- X - O |\n",
      "0 |X - - X |\n",
      "z0+--------+\n",
      "   0 1 2 3 \n",
      "--\n",
      "MCTS made incorrect play in  115.808 sec\n"
     ]
    }
   ],
   "source": [
    "config.num_mcts_sims = 100000 # doesn't work as player 2, explores 1,0,2 which should be a win but values 0\n",
    "root = test_mcts([14,0,7,3,11,5,15,13,12],1);"
   ]
  },
  {
   "cell_type": "code",
   "execution_count": 14,
   "metadata": {
    "scrolled": false
   },
   "outputs": [
    {
     "name": "stdout",
     "output_type": "stream",
     "text": [
      " -> v:-0.51 n:4000 p:0.0 tp:-1\n",
      "  0 -> v:0.0 n:113 p:0.062 tp:1\n",
      "  1 -> v:0.89 n:2291 p:0.062 tp:1\n",
      "  2 -> v:0.0 n:114 p:0.062 tp:1\n",
      "  3 -> v:0.0 n:114 p:0.062 tp:1\n",
      "  4 -> v:0.0 n:114 p:0.062 tp:1\n",
      "  5 -> v:0.0 n:114 p:0.062 tp:1\n",
      "  6 -> v:0.0 n:114 p:0.062 tp:1\n",
      "  7 -> v:0.0 n:114 p:0.062 tp:1\n",
      "  8 -> v:0.0 n:114 p:0.062 tp:1\n",
      "  9 -> v:0.0 n:114 p:0.062 tp:1\n",
      "  10 -> v:0.0 n:114 p:0.062 tp:1\n",
      "  11 -> v:0.0 n:114 p:0.062 tp:1\n",
      "  12 -> v:0.0 n:114 p:0.062 tp:1\n",
      "  13 -> v:0.0 n:114 p:0.062 tp:1\n",
      "  14 -> v:0.0 n:114 p:0.062 tp:1\n",
      "  15 -> v:0.0 n:114 p:0.062 tp:1\n",
      " -> v:0.89 n:2291 p:0.062 tp:1\n",
      "  0 -> v:-0.89 n:142 p:0.062 tp:-1\n",
      "  1 -> v:-0.89 n:142 p:0.062 tp:-1\n",
      "  2 -> v:-0.89 n:149 p:0.062 tp:-1\n",
      "  3 -> v:-0.89 n:142 p:0.062 tp:-1\n",
      "  4 -> v:-0.89 n:142 p:0.062 tp:-1\n",
      "  5 -> v:-0.89 n:142 p:0.062 tp:-1\n",
      "  6 -> v:-0.89 n:142 p:0.062 tp:-1\n",
      "  7 -> v:-0.89 n:142 p:0.062 tp:-1\n",
      "  8 -> v:-0.89 n:142 p:0.062 tp:-1\n",
      "  9 -> v:-0.89 n:149 p:0.062 tp:-1\n",
      "  10 -> v:-0.89 n:142 p:0.062 tp:-1\n",
      "  11 -> v:-0.89 n:142 p:0.062 tp:-1\n",
      "  12 -> v:-0.9 n:143 p:0.062 tp:-1\n",
      "  13 -> v:-0.9 n:143 p:0.062 tp:-1\n",
      "  14 -> v:-0.9 n:143 p:0.062 tp:-1\n",
      "  15 -> v:-0.9 n:143 p:0.062 tp:-1\n",
      " -> v:-0.89 n:142 p:0.062 tp:-1\n",
      "  0 -> v:0.0 n:1 p:0.062 tp:1\n",
      "  1 -> v:0.0 n:1 p:0.062 tp:1\n",
      "  2 -> v:1.0 n:63 p:0.062 tp:1\n",
      "  3 -> v:0.0 n:1 p:0.062 tp:1\n",
      "  4 -> v:0.0 n:1 p:0.062 tp:1\n",
      "  5 -> v:0.0 n:1 p:0.062 tp:1\n",
      "  6 -> v:0.0 n:1 p:0.062 tp:1\n",
      "  7 -> v:0.0 n:1 p:0.062 tp:1\n",
      "  8 -> v:0.0 n:1 p:0.062 tp:1\n",
      "  9 -> v:1.0 n:64 p:0.062 tp:1\n",
      "  10 -> v:0.0 n:1 p:0.062 tp:1\n",
      "  11 -> v:0.0 n:1 p:0.062 tp:1\n",
      "  12 -> v:0.0 n:1 p:0.062 tp:1\n",
      "  13 -> v:0.0 n:1 p:0.062 tp:1\n",
      "  14 -> v:0.0 n:1 p:0.062 tp:1\n",
      "  15 -> v:0.0 n:1 p:0.062 tp:1\n",
      " -> v:1.0 n:63 p:0.062 tp:1\n"
     ]
    }
   ],
   "source": [
    "root.print(2)\n",
    "root.children[1].print(2)\n",
    "root.children[1].children[0].print(2)\n",
    "root.children[1].children[0].children[2].print(2)"
   ]
  },
  {
   "cell_type": "code",
   "execution_count": 13,
   "metadata": {},
   "outputs": [
    {
     "name": "stdout",
     "output_type": "stream",
     "text": [
      "z3+--------+\n",
      "3 |- - - - |\n",
      "2 |- - - - |\n",
      "1 |- - - - |\n",
      "0 |- - - - |\n",
      "z3+--------+\n",
      "   0 1 2 3 \n",
      "z2+--------+\n",
      "3 |- - - - |\n",
      "2 |- - - - |\n",
      "1 |- - - - |\n",
      "0 |- - - - |\n",
      "z2+--------+\n",
      "   0 1 2 3 \n",
      "z1+--------+\n",
      "3 |- - - - |\n",
      "2 |- - - - |\n",
      "1 |- - - - |\n",
      "0 |O - - - |\n",
      "z1+--------+\n",
      "   0 1 2 3 \n",
      "z0+--------+\n",
      "3 |O X O O |\n",
      "2 |- - - O |\n",
      "1 |- X - O |\n",
      "0 |X X X X |\n",
      "z0+--------+\n",
      "   0 1 2 3 \n",
      "--\n"
     ]
    },
    {
     "data": {
      "text/plain": [
       "1"
      ]
     },
     "execution_count": 13,
     "metadata": {},
     "output_type": "execute_result"
    }
   ],
   "source": [
    "b,p = setup_board([14,0,7,3,11,5,15,13,12,1,0,2])\n",
    "g.terminal_value(b,p)"
   ]
  },
  {
   "cell_type": "raw",
   "metadata": {},
   "source": [
    "import uuid\n",
    "from IPython.display import display_javascript, display_html, display\n",
    "import json\n",
    "\n",
    "class RenderJSON(object):\n",
    "    def __init__(self, json_data):\n",
    "        if isinstance(json_data, dict):\n",
    "            self.json_str = json.dumps(json_data)\n",
    "        else:\n",
    "            self.json_str = json\n",
    "        self.uuid = str(uuid.uuid4())\n",
    "        \n",
    "    def _ipython_display_(self):\n",
    "        display_html('<div id=\"{}\" style=\"height: 600px; width:100%;\"></div>'.format(self.uuid),\n",
    "            raw=True\n",
    "        )\n",
    "        display_javascript(\"\"\"\n",
    "        require([\"https://rawgit.com/caldwell/renderjson/master/renderjson.js\"], function() {\n",
    "          document.getElementById('%s').appendChild(renderjson(%s))\n",
    "        });\n",
    "        \"\"\" % (self.uuid, self.json_str), raw=True)"
   ]
  },
  {
   "cell_type": "code",
   "execution_count": null,
   "metadata": {},
   "outputs": [],
   "source": []
  },
  {
   "cell_type": "code",
   "execution_count": null,
   "metadata": {},
   "outputs": [],
   "source": []
  }
 ],
 "metadata": {
  "kernelspec": {
   "display_name": "Python 3",
   "language": "python",
   "name": "python3"
  },
  "language_info": {
   "codemirror_mode": {
    "name": "ipython",
    "version": 3
   },
   "file_extension": ".py",
   "mimetype": "text/x-python",
   "name": "python",
   "nbconvert_exporter": "python",
   "pygments_lexer": "ipython3",
   "version": "3.6.8"
  }
 },
 "nbformat": 4,
 "nbformat_minor": 2
}
