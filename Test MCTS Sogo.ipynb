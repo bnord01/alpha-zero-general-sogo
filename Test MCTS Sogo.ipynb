{
 "cells": [
  {
   "cell_type": "code",
   "execution_count": 17,
   "metadata": {},
   "outputs": [],
   "source": [
    "from MCTS import MCTS\n",
    "from sogo.SogoGame import SogoGame, display as display_board\n",
    "import numpy as np\n",
    "from NeuralNet import NeuralNet\n",
    "from Game import Game\n",
    "\n",
    "g = SogoGame(4)\n",
    "\n",
    "class Config(object):\n",
    "    def __init__(self):    \n",
    "      self.max_moves = 512  # for chess and shogi, 722 for Go.\n",
    "      self.numMCTSSims = 1000\n",
    "\n",
    "      # Root prior exploration noise.\n",
    "      self.root_dirichlet_alpha = 0.3  # for chess, 0.03 for Go and 0.15 for shogi.\n",
    "      self.root_exploration_fraction = 0.0\n",
    "\n",
    "      # UCB formula\n",
    "      self.pb_c_base = 19652\n",
    "      self.pb_c_init = 1.25\n",
    "\n",
    "\n",
    "class NN(NeuralNet):\n",
    "  def __init__(self,game:Game):\n",
    "    self.game = game\n",
    "  def predict(self, board):\n",
    "    return np.ones(self.game.getActionSize())/self.game.getActionSize(), 0\n",
    "\n",
    "config = Config()\n",
    "\n",
    "nn = NN(g)\n",
    "mcts1 = MCTS(g, nn, config)\n",
    "player = 1\n",
    "def mcts_player(x):\n",
    "    pi, root = mcts1.get_action_prob(g.getCanonicalForm(x,player))\n",
    "    return np.argmax(pi), root"
   ]
  },
  {
   "cell_type": "code",
   "execution_count": 3,
   "metadata": {},
   "outputs": [],
   "source": [
    "import time\n",
    "\n",
    "class Timer:    \n",
    "    def __enter__(self):\n",
    "        self.start = time.clock()\n",
    "        return self\n",
    "\n",
    "    def __exit__(self, *args):\n",
    "        self.end = time.clock()\n",
    "        self.interval = self.end - self.start"
   ]
  },
  {
   "cell_type": "code",
   "execution_count": 18,
   "metadata": {},
   "outputs": [],
   "source": [
    "def setup_board(plays): \n",
    "    board = g.getInitBoard()\n",
    "    player = 1    \n",
    "    for play in plays:\n",
    "        board, player = g.getNextState(board, player,play)\n",
    "    display_board(board)\n",
    "    return board, player"
   ]
  },
  {
   "cell_type": "code",
   "execution_count": 19,
   "metadata": {},
   "outputs": [],
   "source": [
    "def test_mcts(plays, expected):\n",
    "    board, player = setup_board(plays)    \n",
    "    with Timer() as t:\n",
    "        play, root = mcts_player(board)    \n",
    "    new_board, new_player = g.getNextState(board, player,play)\n",
    "    display_board(new_board)\n",
    "    print(f\"MCTS made {'correct' if play == expected else 'incorrect' } play in  {t.interval:0.3f} sec\")\n",
    "    return root"
   ]
  },
  {
   "cell_type": "markdown",
   "metadata": {},
   "source": [
    "### State with easy win"
   ]
  },
  {
   "cell_type": "code",
   "execution_count": 8,
   "metadata": {},
   "outputs": [
    {
     "name": "stdout",
     "output_type": "stream",
     "text": [
      "z3+--------+\n",
      "3 |- - - - |\n",
      "2 |- - - - |\n",
      "1 |- - - - |\n",
      "0 |- - - - |\n",
      "z3+--------+\n",
      "   0 1 2 3 \n",
      "z2+--------+\n",
      "3 |- - - - |\n",
      "2 |X - - - |\n",
      "1 |- - - - |\n",
      "0 |O - - - |\n",
      "z2+--------+\n",
      "   0 1 2 3 \n",
      "z1+--------+\n",
      "3 |- - - - |\n",
      "2 |X - - - |\n",
      "1 |- - - - |\n",
      "0 |O - - - |\n",
      "z1+--------+\n",
      "   0 1 2 3 \n",
      "z0+--------+\n",
      "3 |- - - - |\n",
      "2 |X - - - |\n",
      "1 |- - - - |\n",
      "0 |O - - - |\n",
      "z0+--------+\n",
      "   0 1 2 3 \n",
      "--\n",
      "z3+--------+\n",
      "3 |- - - - |\n",
      "2 |- - - - |\n",
      "1 |- - - - |\n",
      "0 |O - - - |\n",
      "z3+--------+\n",
      "   0 1 2 3 \n",
      "z2+--------+\n",
      "3 |- - - - |\n",
      "2 |X - - - |\n",
      "1 |- - - - |\n",
      "0 |O - - - |\n",
      "z2+--------+\n",
      "   0 1 2 3 \n",
      "z1+--------+\n",
      "3 |- - - - |\n",
      "2 |X - - - |\n",
      "1 |- - - - |\n",
      "0 |O - - - |\n",
      "z1+--------+\n",
      "   0 1 2 3 \n",
      "z0+--------+\n",
      "3 |- - - - |\n",
      "2 |X - - - |\n",
      "1 |- - - - |\n",
      "0 |O - - - |\n",
      "z0+--------+\n",
      "   0 1 2 3 \n",
      "--\n",
      "MCTS made correct play in  3.906 sec\n"
     ]
    }
   ],
   "source": [
    "test_mcts([0,8,0,8,0,8],0);\n"
   ]
  },
  {
   "cell_type": "markdown",
   "metadata": {},
   "source": [
    "### States that requires defense against 1 step win"
   ]
  },
  {
   "cell_type": "code",
   "execution_count": null,
   "metadata": {},
   "outputs": [],
   "source": [
    "test_mcts([0,8,0,8,0],0);\n"
   ]
  },
  {
   "cell_type": "code",
   "execution_count": null,
   "metadata": {},
   "outputs": [],
   "source": [
    "b,p = setup_board([0,7,3,11,5,15,13,1,0,9]); # from 40k runs or so\n",
    "g.getGameEnded(b,p)\n"
   ]
  },
  {
   "cell_type": "markdown",
   "metadata": {},
   "source": [
    "### State requires defense against 2 step win as player 2"
   ]
  },
  {
   "cell_type": "code",
   "execution_count": 26,
   "metadata": {},
   "outputs": [
    {
     "name": "stdout",
     "output_type": "stream",
     "text": [
      "z3+--------+\n",
      "3 |- - - - |\n",
      "2 |- - - - |\n",
      "1 |- - - - |\n",
      "0 |- - - - |\n",
      "z3+--------+\n",
      "   0 1 2 3 \n",
      "z2+--------+\n",
      "3 |- - - - |\n",
      "2 |- - - - |\n",
      "1 |- - - - |\n",
      "0 |- - - - |\n",
      "z2+--------+\n",
      "   0 1 2 3 \n",
      "z1+--------+\n",
      "3 |- - - - |\n",
      "2 |- - - - |\n",
      "1 |- - - - |\n",
      "0 |- - - - |\n",
      "z1+--------+\n",
      "   0 1 2 3 \n",
      "z0+--------+\n",
      "3 |- O - X |\n",
      "2 |- - - X |\n",
      "1 |- O - X |\n",
      "0 |O - - O |\n",
      "z0+--------+\n",
      "   0 1 2 3 \n",
      "--\n",
      "z3+--------+\n",
      "3 |- - - - |\n",
      "2 |- - - - |\n",
      "1 |- - - - |\n",
      "0 |- - - - |\n",
      "z3+--------+\n",
      "   0 1 2 3 \n",
      "z2+--------+\n",
      "3 |- - - - |\n",
      "2 |- - - - |\n",
      "1 |- - - - |\n",
      "0 |- - - - |\n",
      "z2+--------+\n",
      "   0 1 2 3 \n",
      "z1+--------+\n",
      "3 |- - - - |\n",
      "2 |- - - - |\n",
      "1 |- - - - |\n",
      "0 |- - - - |\n",
      "z1+--------+\n",
      "   0 1 2 3 \n",
      "z0+--------+\n",
      "3 |- O - X |\n",
      "2 |X - - X |\n",
      "1 |- O - X |\n",
      "0 |O - - O |\n",
      "z0+--------+\n",
      "   0 1 2 3 \n",
      "--\n",
      "MCTS made incorrect play in  2.267 sec\n"
     ]
    }
   ],
   "source": [
    "config.numMCTSSims = 1000\n",
    "test_mcts([0,7,3,11,5,15,13],1);\n"
   ]
  },
  {
   "cell_type": "markdown",
   "metadata": {},
   "source": [
    "### State requires defense against 2 step win as player 1"
   ]
  },
  {
   "cell_type": "code",
   "execution_count": 28,
   "metadata": {},
   "outputs": [
    {
     "name": "stdout",
     "output_type": "stream",
     "text": [
      "z3+--------+\n",
      "3 |- - - - |\n",
      "2 |- - - - |\n",
      "1 |- - - - |\n",
      "0 |- - - - |\n",
      "z3+--------+\n",
      "   0 1 2 3 \n",
      "z2+--------+\n",
      "3 |- - - - |\n",
      "2 |- - - - |\n",
      "1 |- - - - |\n",
      "0 |- - - - |\n",
      "z2+--------+\n",
      "   0 1 2 3 \n",
      "z1+--------+\n",
      "3 |- - - - |\n",
      "2 |- - - - |\n",
      "1 |- - - - |\n",
      "0 |- - - - |\n",
      "z1+--------+\n",
      "   0 1 2 3 \n",
      "z0+--------+\n",
      "3 |O X - O |\n",
      "2 |- - - O |\n",
      "1 |- X - O |\n",
      "0 |X - - X |\n",
      "z0+--------+\n",
      "   0 1 2 3 \n",
      "--\n",
      "z3+--------+\n",
      "3 |- - - - |\n",
      "2 |- - - - |\n",
      "1 |- - - - |\n",
      "0 |- - - - |\n",
      "z3+--------+\n",
      "   0 1 2 3 \n",
      "z2+--------+\n",
      "3 |- - - - |\n",
      "2 |- - - - |\n",
      "1 |- - - - |\n",
      "0 |- - - - |\n",
      "z2+--------+\n",
      "   0 1 2 3 \n",
      "z1+--------+\n",
      "3 |- - - - |\n",
      "2 |- - - - |\n",
      "1 |- - - - |\n",
      "0 |O - - - |\n",
      "z1+--------+\n",
      "   0 1 2 3 \n",
      "z0+--------+\n",
      "3 |O X - O |\n",
      "2 |- - - O |\n",
      "1 |- X - O |\n",
      "0 |X - - X |\n",
      "z0+--------+\n",
      "   0 1 2 3 \n",
      "--\n",
      "MCTS made incorrect play in  25.216 sec\n"
     ]
    }
   ],
   "source": [
    "config.numMCTSSims = 10000\n",
    "root = test_mcts([12,0,7,3,11,5,15,13],1);\n"
   ]
  },
  {
   "cell_type": "markdown",
   "metadata": {},
   "source": [
    "### State with 2 step win as player 1"
   ]
  },
  {
   "cell_type": "code",
   "execution_count": 30,
   "metadata": {
    "scrolled": true
   },
   "outputs": [
    {
     "name": "stdout",
     "output_type": "stream",
     "text": [
      "z3+--------+\n",
      "3 |- - - - |\n",
      "2 |- - - - |\n",
      "1 |- - - - |\n",
      "0 |- - - - |\n",
      "z3+--------+\n",
      "   0 1 2 3 \n",
      "z2+--------+\n",
      "3 |- - - - |\n",
      "2 |- - - - |\n",
      "1 |- - - - |\n",
      "0 |- - - - |\n",
      "z2+--------+\n",
      "   0 1 2 3 \n",
      "z1+--------+\n",
      "3 |- - - - |\n",
      "2 |- - - - |\n",
      "1 |- - - - |\n",
      "0 |- - - - |\n",
      "z1+--------+\n",
      "   0 1 2 3 \n",
      "z0+--------+\n",
      "3 |X O - X |\n",
      "2 |- - - X |\n",
      "1 |- O - X |\n",
      "0 |O - - O |\n",
      "z0+--------+\n",
      "   0 1 2 3 \n",
      "--\n",
      "z3+--------+\n",
      "3 |- - - - |\n",
      "2 |- - - - |\n",
      "1 |- - - - |\n",
      "0 |- - - - |\n",
      "z3+--------+\n",
      "   0 1 2 3 \n",
      "z2+--------+\n",
      "3 |- - - - |\n",
      "2 |- - - - |\n",
      "1 |- - - - |\n",
      "0 |- - - - |\n",
      "z2+--------+\n",
      "   0 1 2 3 \n",
      "z1+--------+\n",
      "3 |- - - - |\n",
      "2 |- - - - |\n",
      "1 |- - - - |\n",
      "0 |- - - - |\n",
      "z1+--------+\n",
      "   0 1 2 3 \n",
      "z0+--------+\n",
      "3 |X O - X |\n",
      "2 |O - - X |\n",
      "1 |- O - X |\n",
      "0 |O - - O |\n",
      "z0+--------+\n",
      "   0 1 2 3 \n",
      "--\n",
      "MCTS made incorrect play in  2.579 sec\n"
     ]
    }
   ],
   "source": [
    "config.numMCTSSims = 1000\n",
    "root = test_mcts([0,7,3,11,5,15,13,12],1);"
   ]
  },
  {
   "cell_type": "markdown",
   "metadata": {},
   "source": [
    "### State with 2 step win as player 2"
   ]
  },
  {
   "cell_type": "code",
   "execution_count": 33,
   "metadata": {},
   "outputs": [
    {
     "name": "stdout",
     "output_type": "stream",
     "text": [
      "z3+--------+\n",
      "3 |- - - - |\n",
      "2 |- - - - |\n",
      "1 |- - - - |\n",
      "0 |- - - - |\n",
      "z3+--------+\n",
      "   0 1 2 3 \n",
      "z2+--------+\n",
      "3 |- - - - |\n",
      "2 |- - - - |\n",
      "1 |- - - - |\n",
      "0 |- - - - |\n",
      "z2+--------+\n",
      "   0 1 2 3 \n",
      "z1+--------+\n",
      "3 |- - - - |\n",
      "2 |- - - - |\n",
      "1 |- - - - |\n",
      "0 |- - - - |\n",
      "z1+--------+\n",
      "   0 1 2 3 \n",
      "z0+--------+\n",
      "3 |O X O O |\n",
      "2 |- - - O |\n",
      "1 |- X - O |\n",
      "0 |X - - X |\n",
      "z0+--------+\n",
      "   0 1 2 3 \n",
      "--\n",
      "z3+--------+\n",
      "3 |- - - - |\n",
      "2 |- - - - |\n",
      "1 |- - - - |\n",
      "0 |- - - - |\n",
      "z3+--------+\n",
      "   0 1 2 3 \n",
      "z2+--------+\n",
      "3 |- - - - |\n",
      "2 |- - - - |\n",
      "1 |- - - - |\n",
      "0 |- - - - |\n",
      "z2+--------+\n",
      "   0 1 2 3 \n",
      "z1+--------+\n",
      "3 |- - - - |\n",
      "2 |- - - - |\n",
      "1 |- - - - |\n",
      "0 |- - - - |\n",
      "z1+--------+\n",
      "   0 1 2 3 \n",
      "z0+--------+\n",
      "3 |O X O O |\n",
      "2 |X - - O |\n",
      "1 |- X - O |\n",
      "0 |X - - X |\n",
      "z0+--------+\n",
      "   0 1 2 3 \n",
      "--\n",
      "MCTS made incorrect play in  2.509 sec\n"
     ]
    }
   ],
   "source": [
    "config.numMCTSSims = 1000\n",
    "root = test_mcts([14,0,7,3,11,5,15,13,12],1);"
   ]
  },
  {
   "cell_type": "code",
   "execution_count": 36,
   "metadata": {},
   "outputs": [
    {
     "name": "stdout",
     "output_type": "stream",
     "text": [
      " -> v:0.0 n:1000 p:0.0 tp:-1\n",
      "  0 -> v:0.0 n:62 p:0.062 tp:1\n",
      "  1 -> v:0.0 n:62 p:0.062 tp:1\n",
      "  2 -> v:0.0 n:62 p:0.062 tp:1\n",
      "  3 -> v:0.0 n:62 p:0.062 tp:1\n",
      "  4 -> v:0.0 n:62 p:0.062 tp:1\n",
      "  5 -> v:0.0 n:62 p:0.062 tp:1\n",
      "  6 -> v:0.0 n:62 p:0.062 tp:1\n",
      "  7 -> v:0.0 n:62 p:0.062 tp:1\n",
      "  8 -> v:0.0 n:63 p:0.062 tp:1\n",
      "  9 -> v:0.0 n:63 p:0.062 tp:1\n",
      "  10 -> v:0.0 n:63 p:0.062 tp:1\n",
      "  11 -> v:0.0 n:63 p:0.062 tp:1\n",
      "  12 -> v:0.0 n:63 p:0.062 tp:1\n",
      "  13 -> v:0.0 n:63 p:0.062 tp:1\n",
      "  14 -> v:0.0 n:63 p:0.062 tp:1\n",
      "  15 -> v:0.0 n:63 p:0.062 tp:1\n",
      " -> v:0.0 n:62 p:0.062 tp:1\n",
      "  0 -> v:0.0 n:3 p:0.062 tp:-1\n",
      "  1 -> v:0.0 n:3 p:0.062 tp:-1\n",
      "  2 -> v:0.0 n:3 p:0.062 tp:-1\n",
      "  3 -> v:0.0 n:4 p:0.062 tp:-1\n",
      "  4 -> v:0.0 n:4 p:0.062 tp:-1\n",
      "  5 -> v:0.0 n:4 p:0.062 tp:-1\n",
      "  6 -> v:0.0 n:4 p:0.062 tp:-1\n",
      "  7 -> v:0.0 n:4 p:0.062 tp:-1\n",
      "  8 -> v:0.0 n:4 p:0.062 tp:-1\n",
      "  9 -> v:0.0 n:4 p:0.062 tp:-1\n",
      "  10 -> v:0.0 n:4 p:0.062 tp:-1\n",
      "  11 -> v:0.0 n:4 p:0.062 tp:-1\n",
      "  12 -> v:0.0 n:4 p:0.062 tp:-1\n",
      "  13 -> v:0.0 n:4 p:0.062 tp:-1\n",
      "  14 -> v:0.0 n:4 p:0.062 tp:-1\n",
      "  15 -> v:0.0 n:4 p:0.062 tp:-1\n",
      " -> v:0.0 n:3 p:0.062 tp:-1\n",
      "  14 -> v:0.0 n:1 p:0.062 tp:1\n",
      "  15 -> v:0.0 n:1 p:0.062 tp:1\n"
     ]
    }
   ],
   "source": [
    "root.print(2)\n",
    "root.children[1].print(2)\n",
    "root.children[1].children[0].print(2)"
   ]
  },
  {
   "cell_type": "code",
   "execution_count": 10,
   "metadata": {},
   "outputs": [],
   "source": [
    "import uuid\n",
    "from IPython.display import display_javascript, display_html, display\n",
    "import json\n",
    "\n",
    "class RenderJSON(object):\n",
    "    def __init__(self, json_data):\n",
    "        if isinstance(json_data, dict):\n",
    "            self.json_str = json.dumps(json_data)\n",
    "        else:\n",
    "            self.json_str = json\n",
    "        self.uuid = str(uuid.uuid4())\n",
    "        \n",
    "    def _ipython_display_(self):\n",
    "        display_html('<div id=\"{}\" style=\"height: 600px; width:100%;\"></div>'.format(self.uuid),\n",
    "            raw=True\n",
    "        )\n",
    "        display_javascript(\"\"\"\n",
    "        require([\"https://rawgit.com/caldwell/renderjson/master/renderjson.js\"], function() {\n",
    "          document.getElementById('%s').appendChild(renderjson(%s))\n",
    "        });\n",
    "        \"\"\" % (self.uuid, self.json_str), raw=True)"
   ]
  },
  {
   "cell_type": "code",
   "execution_count": null,
   "metadata": {},
   "outputs": [],
   "source": []
  },
  {
   "cell_type": "code",
   "execution_count": null,
   "metadata": {},
   "outputs": [],
   "source": []
  }
 ],
 "metadata": {
  "kernelspec": {
   "display_name": "Python 3",
   "language": "python",
   "name": "python3"
  },
  "language_info": {
   "codemirror_mode": {
    "name": "ipython",
    "version": 3
   },
   "file_extension": ".py",
   "mimetype": "text/x-python",
   "name": "python",
   "nbconvert_exporter": "python",
   "pygments_lexer": "ipython3",
   "version": "3.6.8"
  }
 },
 "nbformat": 4,
 "nbformat_minor": 2
}
