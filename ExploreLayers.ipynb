{
 "cells": [
  {
   "cell_type": "code",
   "execution_count": 4,
   "metadata": {},
   "outputs": [],
   "source": [
    "from sogo.SogoGame import SogoGame, display as display_board\n",
    "import numpy as np\n",
    "from sogo.keras.NNet import NNetWrapper as NNet\n",
    "\n",
    "from Config import Config\n",
    "from sogo.keras.NNet import NNArgs\n",
    "# nnet players\n",
    "config = Config(\n",
    "    load_folder_file=('./save/', 'discount925_fresh_eps40_mcts512_iter10.h5'),\n",
    "    num_mcts_sims=150,\n",
    "    root_dirichlet_alpha=0.3,\n",
    "    root_exploration_fraction=0.0,\n",
    "    mcts_discount=0.9,\n",
    "    pb_c_base=19652,\n",
    "    pb_c_init=1.25)\n",
    "config.nnet_args = NNArgs(lr=0.001, \n",
    "                              batch_size=1024, \n",
    "                              epochs=20)\n",
    "\n",
    "game = SogoGame(4)\n",
    "\n",
    "def setup_board(plays,verbose=True): \n",
    "    board = game.init_board()\n",
    "    player = 1    \n",
    "    for play in plays:\n",
    "        board, player = game.next_state(board, player,play)\n",
    "    if verbose:\n",
    "        display_board(board)\n",
    "    return board, player"
   ]
  },
  {
   "cell_type": "code",
   "execution_count": 5,
   "metadata": {},
   "outputs": [
    {
     "name": "stdout",
     "output_type": "stream",
     "text": [
      "WARNING:tensorflow:From /Users/bnord/git/alpha-zero-general/venv/lib/python3.7/site-packages/tensorflow/python/framework/op_def_library.py:263: colocate_with (from tensorflow.python.framework.ops) is deprecated and will be removed in a future version.\n",
      "Instructions for updating:\n",
      "Colocations handled automatically by placer.\n"
     ]
    }
   ],
   "source": [
    "nn = NNet(game, config)\n",
    "nn.load_checkpoint(*(config.load_folder_file)) \n",
    "model = nn.nnet.model"
   ]
  },
  {
   "cell_type": "code",
   "execution_count": 23,
   "metadata": {},
   "outputs": [],
   "source": [
    "%matplotlib inline\n",
    "import matplotlib.pyplot as plt\n",
    "from keras import backend as K\n",
    "\n",
    "def plot_layer_outputs(inpt, layer_number):    \n",
    "    layer_func = K.function([model.input],[model.layers[layer_number].output])\n",
    "    \n",
    "    layer_output = layer_func([inpt[np.newaxis,...]])[0][0]\n",
    "\n",
    "    x_max = layer_output.shape[0]\n",
    "    y_max = layer_output.shape[1]\n",
    "    n     = layer_output.shape[2]\n",
    "    \n",
    "    print(layer_output.shape)\n",
    "\n",
    "    L = []\n",
    "    for i in range(n):\n",
    "        L.append(np.zeros((x_max, y_max)))\n",
    "\n",
    "    for i in range(n):\n",
    "        for x in range(x_max):\n",
    "            for y in range(y_max):\n",
    "                L[i][x][y] = layer_output[x][y][i]\n",
    "\n",
    "\n",
    "    return L\n",
    "\n",
    "def plot(img):\n",
    "    plt.figure()\n",
    "    plt.imshow(img, interpolation='nearest')\n"
   ]
  },
  {
   "cell_type": "code",
   "execution_count": 24,
   "metadata": {},
   "outputs": [],
   "source": [
    "def plot_layer(plays, layer):\n",
    "    b,p = setup_board(plays, verbose = False)\n",
    "    b = game.canonical_board(b,p)\n",
    "    return plot_layer_outputs(b, layer)"
   ]
  },
  {
   "cell_type": "code",
   "execution_count": 25,
   "metadata": {
    "scrolled": true
   },
   "outputs": [
    {
     "data": {
      "text/plain": [
       "[(0, (None, 4, 4, 4, 2), 'input_1'),\n",
       " (1, (None, 4, 4, 4, 48), 'conv3d_2'),\n",
       " (2, (None, 4, 4, 4, 48), 'batch_normalization_2'),\n",
       " (3, (None, 4, 4, 4, 48), 'activation_2'),\n",
       " (4, (None, 4, 4, 4, 192), 'conv3d_3'),\n",
       " (5, (None, 4, 4, 4, 24), 'conv3d_5'),\n",
       " (6, (None, 4, 4, 4, 24), 'conv3d_7'),\n",
       " (7, (None, 4, 4, 4, 24), 'conv3d_9'),\n",
       " (8, (None, 4, 4, 4, 192), 'batch_normalization_3'),\n",
       " (9, (None, 4, 4, 4, 24), 'batch_normalization_5'),\n",
       " (10, (None, 4, 4, 4, 24), 'batch_normalization_7'),\n",
       " (11, (None, 4, 4, 4, 24), 'batch_normalization_9'),\n",
       " (12, (None, 4, 4, 4, 192), 'activation_3'),\n",
       " (13, (None, 4, 4, 4, 24), 'activation_5'),\n",
       " (14, (None, 4, 4, 4, 24), 'activation_7'),\n",
       " (15, (None, 4, 4, 4, 24), 'activation_9'),\n",
       " (16, (None, 4, 4, 4, 48), 'conv3d_1'),\n",
       " (17, (None, 4, 4, 4, 48), 'conv3d_4'),\n",
       " (18, (None, 4, 4, 4, 48), 'conv3d_6'),\n",
       " (19, (None, 4, 4, 4, 48), 'conv3d_8'),\n",
       " (20, (None, 4, 4, 4, 48), 'conv3d_10'),\n",
       " (21, (None, 4, 4, 4, 48), 'batch_normalization_1'),\n",
       " (22, (None, 4, 4, 4, 48), 'batch_normalization_4'),\n",
       " (23, (None, 4, 4, 4, 48), 'batch_normalization_6'),\n",
       " (24, (None, 4, 4, 4, 48), 'batch_normalization_8'),\n",
       " (25, (None, 4, 4, 4, 48), 'batch_normalization_10'),\n",
       " (26, (None, 4, 4, 4, 48), 'activation_1'),\n",
       " (27, (None, 4, 4, 4, 48), 'activation_4'),\n",
       " (28, (None, 4, 4, 4, 48), 'activation_6'),\n",
       " (29, (None, 4, 4, 4, 48), 'activation_8'),\n",
       " (30, (None, 4, 4, 4, 48), 'activation_10'),\n",
       " (31, (None, 4, 4, 4, 240), 'mixed0'),\n",
       " (32, (None, 4, 4, 960), 'reshape_1'),\n",
       " (33, (None, 4, 4, 64), 'conv2d_4'),\n",
       " (34, (None, 4, 4, 64), 'batch_normalization_14'),\n",
       " (35, (None, 4, 4, 64), 'activation_14'),\n",
       " (36, (None, 4, 4, 48), 'conv2d_2'),\n",
       " (37, (None, 4, 4, 96), 'conv2d_5'),\n",
       " (38, (None, 4, 4, 48), 'batch_normalization_12'),\n",
       " (39, (None, 4, 4, 96), 'batch_normalization_15'),\n",
       " (40, (None, 4, 4, 48), 'activation_12'),\n",
       " (41, (None, 4, 4, 96), 'activation_15'),\n",
       " (42, (None, 4, 4, 960), 'average_pooling2d_1'),\n",
       " (43, (None, 4, 4, 64), 'conv2d_1'),\n",
       " (44, (None, 4, 4, 64), 'conv2d_3'),\n",
       " (45, (None, 4, 4, 96), 'conv2d_6'),\n",
       " (46, (None, 4, 4, 64), 'conv2d_7'),\n",
       " (47, (None, 4, 4, 64), 'batch_normalization_11'),\n",
       " (48, (None, 4, 4, 64), 'batch_normalization_13'),\n",
       " (49, (None, 4, 4, 96), 'batch_normalization_16'),\n",
       " (50, (None, 4, 4, 64), 'batch_normalization_17'),\n",
       " (51, (None, 4, 4, 64), 'activation_11'),\n",
       " (52, (None, 4, 4, 64), 'activation_13'),\n",
       " (53, (None, 4, 4, 96), 'activation_16'),\n",
       " (54, (None, 4, 4, 64), 'activation_17'),\n",
       " (55, (None, 4, 4, 288), 'mixed1'),\n",
       " (56, (None, 4, 4, 48), 'conv2d_9'),\n",
       " (57, (None, 4, 4, 64), 'conv2d_12'),\n",
       " (58, (None, 4, 4, 48), 'batch_normalization_19'),\n",
       " (59, (None, 4, 4, 64), 'batch_normalization_22'),\n",
       " (60, (None, 4, 4, 48), 'activation_19'),\n",
       " (61, (None, 4, 4, 64), 'activation_22'),\n",
       " (62, (None, 4, 4, 64), 'conv2d_10'),\n",
       " (63, (None, 4, 4, 96), 'conv2d_13'),\n",
       " (64, (None, 4, 4, 64), 'batch_normalization_20'),\n",
       " (65, (None, 4, 4, 96), 'batch_normalization_23'),\n",
       " (66, (None, 4, 4, 64), 'activation_20'),\n",
       " (67, (None, 4, 4, 96), 'activation_23'),\n",
       " (68, (None, 4, 4, 288), 'average_pooling2d_2'),\n",
       " (69, (None, 4, 4, 64), 'conv2d_8'),\n",
       " (70, (None, 4, 4, 128), 'conv2d_11'),\n",
       " (71, (None, 4, 4, 96), 'conv2d_14'),\n",
       " (72, (None, 4, 4, 64), 'conv2d_15'),\n",
       " (73, (None, 4, 4, 64), 'batch_normalization_18'),\n",
       " (74, (None, 4, 4, 128), 'batch_normalization_21'),\n",
       " (75, (None, 4, 4, 96), 'batch_normalization_24'),\n",
       " (76, (None, 4, 4, 64), 'batch_normalization_25'),\n",
       " (77, (None, 4, 4, 64), 'activation_18'),\n",
       " (78, (None, 4, 4, 128), 'activation_21'),\n",
       " (79, (None, 4, 4, 96), 'activation_24'),\n",
       " (80, (None, 4, 4, 64), 'activation_25'),\n",
       " (81, (None, 4, 4, 352), 'mixed2'),\n",
       " (82, (None, 5632), 'flatten_1'),\n",
       " (83, (None, 2048), 'dense1'),\n",
       " (84, (None, 2048), 'batch_normalization_26'),\n",
       " (85, (None, 2048), 'activation_26'),\n",
       " (86, (None, 1024), 'dense2'),\n",
       " (87, (None, 1024), 'batch_normalization_27'),\n",
       " (88, (None, 1024), 'activation_27'),\n",
       " (89, (None, 16), 'pi'),\n",
       " (90, (None, 1), 'v')]"
      ]
     },
     "execution_count": 25,
     "metadata": {},
     "output_type": "execute_result"
    }
   ],
   "source": [
    "[(i, l.output_shape, l.name) for i,l in enumerate(model.layers)]"
   ]
  },
  {
   "cell_type": "code",
   "execution_count": 28,
   "metadata": {},
   "outputs": [
    {
     "name": "stdout",
     "output_type": "stream",
     "text": [
      "(4, 4, 288)\n"
     ]
    },
    {
     "data": {
      "image/png": "[encoded data removed]",
      "text/plain": [
       "<Figure size 432x288 with 1 Axes>"
      ]
     },
     "metadata": {
      "needs_background": "light"
     },
     "output_type": "display_data"
    },
    {
     "data": {
      "image/png": "[encoded data removed]",
      "text/plain": [
       "<Figure size 432x288 with 1 Axes>"
      ]
     },
     "metadata": {
      "needs_background": "light"
     },
     "output_type": "display_data"
    },
    {
     "data": {
      "image/png": "[encoded data removed]",
      "text/plain": [
       "<Figure size 432x288 with 1 Axes>"
      ]
     },
     "metadata": {
      "needs_background": "light"
     },
     "output_type": "display_data"
    }
   ],
   "source": [
    "L = plot_layer([2],55)\n",
    "for i in range(3): plot(L[i])"
   ]
  }
 ],
 "metadata": {
  "kernelspec": {
   "display_name": "Python 3",
   "language": "python",
   "name": "python3"
  },
  "language_info": {
   "codemirror_mode": {
    "name": "ipython",
    "version": 3
   },
   "file_extension": ".py",
   "mimetype": "text/x-python",
   "name": "python",
   "nbconvert_exporter": "python",
   "pygments_lexer": "ipython3",
   "version": "3.7.2"
  }
 },
 "nbformat": 4,
 "nbformat_minor": 2
}
